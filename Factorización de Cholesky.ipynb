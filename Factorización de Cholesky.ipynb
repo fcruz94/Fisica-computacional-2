{
 "cells": [
  {
   "cell_type": "code",
   "execution_count": 1,
   "metadata": {},
   "outputs": [
    {
     "data": {
      "text/markdown": [
       "__=================== MATRIZ L ===================__"
      ],
      "text/plain": [
       "<IPython.core.display.Markdown object>"
      ]
     },
     "metadata": {},
     "output_type": "display_data"
    },
    {
     "name": "stdout",
     "output_type": "stream",
     "text": [
      "[[ 3.16227766+0.j          0.        +0.j          0.        +0.j          0.        +0.j          0.        +0.j          0.        +0.j          0.        +0.j        ]\n",
      " [-0.31622777+0.j          1.22474487+0.j          0.        +0.j          0.        +0.j          0.        +0.j          0.        +0.j          0.        +0.j        ]\n",
      " [ 0.        +0.j          4.0824829 +0.j          0.        +2.51661148j  0.        +0.j          0.        +0.j          0.        +0.j          0.        +0.j        ]\n",
      " [ 0.        +0.j          0.        +0.j          0.        +0.39735971j  0.        +1.33771211j  0.        +0.j          0.        +0.j          0.        +0.j        ]\n",
      " [ 0.        +0.j          0.        +0.j          0.        +0.j          0.        -3.73772501j  1.94784949+0.j          0.        +0.j          0.        +0.j        ]\n",
      " [ 0.        +0.j          0.        +0.j          0.        +0.j          0.        +0.j          0.51338669+0.j          0.        +1.52244194j  0.        +0.j        ]\n",
      " [ 0.        +0.j          0.        +0.j          0.        +0.j          0.        +0.j          0.        +0.j          0.        -3.28419749j  0.        +3.48671631j]]\n"
     ]
    },
    {
     "data": {
      "text/markdown": [
       "__=================== MATRIZ U ===================__"
      ],
      "text/plain": [
       "<IPython.core.display.Markdown object>"
      ]
     },
     "metadata": {},
     "output_type": "display_data"
    },
    {
     "name": "stdout",
     "output_type": "stream",
     "text": [
      "[[3.16227766+0.j         1.58113883+0.j         0.        +0.j         0.        +0.j         0.        +0.j         0.        +0.j         0.        +0.j        ]\n",
      " [0.        +0.j         1.22474487+0.j         0.81649658+0.j         0.        +0.j         0.        +0.j         0.        +0.j         0.        +0.j        ]\n",
      " [0.        +0.j         0.        +0.j         0.        +2.51661148j 0.        -1.98679854j 0.        +0.j         0.        +0.j         0.        +0.j        ]\n",
      " [0.        +0.j         0.        +0.j         0.        +0.j         0.        +1.33771211j 0.        -0.747545j   0.        +0.j         0.        +0.j        ]\n",
      " [0.        +0.j         0.        +0.j         0.        +0.j         0.        +0.j         1.94784949+0.j         2.56693344+0.j         0.        +0.j        ]\n",
      " [0.        +0.j         0.        +0.j         0.        +0.j         0.        +0.j         0.        +0.j         0.        +1.52244194j 0.        +0.6568395j ]\n",
      " [0.        +0.j         0.        +0.j         0.        +0.j         0.        +0.j         0.        +0.j         0.        +0.j         0.        +3.48671631j]]\n"
     ]
    }
   ],
   "source": [
    "import numpy as np\n",
    "from IPython.display import Markdown\n",
    "\n",
    "np.set_printoptions(suppress=True, linewidth=200)\n",
    "\n",
    "def crea_matriz():\n",
    "    \"\"\"\n",
    "    Crea la matriz ampliada del sistema de ecuaciones a partir de la entrada\n",
    "    del usuario y solicita del mismo el ajuste de cifras significativas\n",
    "    \"\"\"\n",
    "    A =[]\n",
    "    # Número de filas, es también el de incógnitas\n",
    "    filas = int(input('Número de incógnitas: '))\n",
    "    # Columnas de la ampliada = número de filas + 1\n",
    "    columnas = filas \n",
    "    # Ajuste de cifras significativas\n",
    "    #significativas = int(input('Cifras significativas requeridas (0 para ignorar): ') or '0')\n",
    "    # Entrada de las ecuaciones\n",
    "    print('Introduzca cada ecuación seguida de \"Enter\" (ejemplo: 2x+y+3z=4 => 2 1 3 4): ')\n",
    "    for i in range(filas):\n",
    "        nfila = list(map(float, input().rstrip().split()))\n",
    "        while len(nfila) != columnas :\n",
    "            print('Entrada inválida, ha introducido {} coeficientes y ha de ser igual a {}. Vuelva a intentarlo: '.format(len(nfila), columnas))\n",
    "            nfila = list(map(ajusta_entrada, input().rstrip().split()))\n",
    "        A.append(nfila)\n",
    "    display(Markdown('__Matriz A:__ '))\n",
    "    muestra_matriz(A)\n",
    "    return (A)\n",
    "\n",
    "def muestra_matriz(m):\n",
    "    \"\"\"\n",
    "    Muestra una matriz fila a filalongitud\n",
    "    param m: matriz que se desea mostrar\n",
    "    \"\"\"\n",
    "    for linea in m:\n",
    "        display(linea)\n",
    "\n",
    "def cholesky(A):\n",
    "    \"\"\"\n",
    "    Implementación del método de factorización de Cholesky.\n",
    "    Devuelve la matriz triangular inferior, L, y la matriz triangular\n",
    "    superior, U, de dicha matriz A, tal que L*U=A\n",
    "    Este método se caracteriza porque requiere que todos los elementos de la \n",
    "    diagonal principal de las matrices L y U sean iguales.\n",
    "    \n",
    "    param A: matriz que se desea factorizar\n",
    "    \"\"\"\n",
    "   \n",
    "    n = len(A)\n",
    "    cols= len(A[0])\n",
    "    sum0 = 0\n",
    "    l = np.zeros((len(A), len(A)), dtype=np.complex) # Se inicializan las matrices L y U\n",
    "    u = np.zeros((len(A), len(A)), dtype=np.complex) #\n",
    "    sum1 = 0\n",
    "    sum2 = 0\n",
    "    sum3 = 0\n",
    "    \n",
    "    global num_sumas # Recoje el número total de sumas y/o diferencias\n",
    "    global num_productos # Recoje el número total de productos y/o cocientes\n",
    "    \n",
    "    num_sumas = 0\n",
    "    num_productos = 0\n",
    "    \n",
    "    for k in range (0, n):\n",
    "        sum1 = 0\n",
    "        for p in range(0, k):\n",
    "            sum1 = sum1 + l[k, p] * u[p, k]\n",
    "        l[k, k] = np.sqrt(A[k, k] - sum1)\n",
    "        u[k, k] = np.sqrt(A[k, k] - sum1)\n",
    "        \n",
    "        for i in range(k+1, n):\n",
    "            sum2 = 0\n",
    "            for p in range(0, k):\n",
    "                sum2 += l[i, p] * u[p, k]\n",
    "            l[i, k] = (A[i, k] - sum2)/u[k, k]\n",
    "            \n",
    "        for j in range(k+1, n):\n",
    "            sum3 = 0\n",
    "            for p in range(0, k):\n",
    "                sum3 += l[k, p] * u[p, j]\n",
    "            u[k, j] = (A[k,j]-sum3)/l[k, k]\n",
    "                \n",
    "    return l, u\n",
    "\n",
    "\n",
    "\n",
    "#####################################################################\n",
    "# Por comodidad se han escrito aquí las matrices de los             #\n",
    "# apartados correspondientes del enunciado.                         #\n",
    "# Si se desea utilizar con cualquier otra matriz empleando          #\n",
    "# la entrada de usuario implementada, la llamada a la función       #\n",
    "# ha de hacerse de la siguiente forma:                              #\n",
    "#                                                                   #\n",
    "#  matriz_resultadoL, matriz_resultadoU = cholesky(crea_matriz())   #\n",
    "#                                                                   #\n",
    "#####################################################################\n",
    "\n",
    "matrizB = [[0.0, 0.0, 0.0, 10.0, 0.0, 5.0, 0.0],\n",
    "           [0.0, 1.0, 0.0, -1.0, 0.0, 1.0, 0.0],\n",
    "           [0.0, -3.0, 0.0, 0.0, 5.0, 5.0, 0.0],\n",
    "           [1.0, -1.0, 0.0, 0.0, -1.0, 0.0, 0.0],\n",
    "           [1.0, 0.0, 0.0, 0.0, 5.0, 0.0, 5.0],\n",
    "           [1.0, 0.0, -1.0, 0.0, 0.0, 0.0, -1.0],\n",
    "           [0.0, 0.0, -10.0, 0.0, 0.0, 0.0, 5.0]\n",
    "]\n",
    "# Matriz apartado c) PEC 2\n",
    "matrizC = [[10.0, 5.0, 0.0, 0.0, 0.0, 0.0, 0.0],\n",
    "           [-1.0, 1.0, 1.0, 0.0, 0.0, 0.0, 0.0],\n",
    "           [0.0, 5.0, -3.0, 5.0, 0.0, 0.0, 0.0],\n",
    "           [0.0, 0.0, -1.0, -1.0, 1.0, 0.0, 0.0],\n",
    "           [0.0, 0.0, 0.0, 5.0, 1.0, 5.0, 0.0],\n",
    "           [0.0, 0.0, 0.0, 0.0, 1.0, -1.0, -1.0],\n",
    "           [0.0, 0.0, 0.0, 0.0, 0.0, 5.0, -10.0]\n",
    "            ]\n",
    "\n",
    "matrizC = np.asarray(matrizC)\n",
    "\n",
    "  \n",
    "ml, mlt = cholesky(matrizC)\n",
    "display(Markdown(('__=================== MATRIZ L ===================__')))\n",
    "print(ml)\n",
    "display(Markdown(('__=================== MATRIZ U ===================__')))\n",
    "print(mlt)\n"
   ]
  },
  {
   "cell_type": "code",
   "execution_count": 24,
   "metadata": {},
   "outputs": [
    {
     "name": "stdout",
     "output_type": "stream",
     "text": [
      "======== resultado para y ========\n",
      "[ 3.16227766+0.j          0.81649658+0.j         -0.        -2.64906471j  0.        +0.78688948j  1.05697259+0.j          0.        +0.35642453j  0.        -2.53230566j]\n",
      "======== resultado para x ========\n",
      "[ 0.44429161+0.j  1.11141678+0.j -0.66712517-0.j  0.48830812+0.j -0.17881706+0.j  0.5474553 +0.j -0.72627235-0.j]\n"
     ]
    }
   ],
   "source": [
    "tind = np.array([10, 0, 10, 0, 5, 0, 10])\n",
    "\n",
    "yarray = np.linalg.solve(ml, tind)\n",
    "print('======== resultado para y ========')\n",
    "print(yarray)\n",
    "xarray = np.linalg.solve(mlt, yarray)\n",
    "print('======== resultado para x ========')\n",
    "print(xarray)"
   ]
  },
  {
   "cell_type": "code",
   "execution_count": 4,
   "metadata": {},
   "outputs": [
    {
     "data": {
      "text/plain": [
       "array([[ 10.        +0.j,   0.        +0.j,   0.        +0.j,   0.        +0.j,   0.        +0.j,   0.        +0.j,   0.        +0.j],\n",
       "       [ -0.        +0.j,   1.5       +0.j,   0.        +0.j,   0.        +0.j,   0.        +0.j,   0.        +0.j,   0.        +0.j],\n",
       "       [  0.        +0.j,   0.        +0.j,  -6.33333333+0.j,   0.        +0.j,   0.        +0.j,   0.        +0.j,   0.        +0.j],\n",
       "       [  0.        +0.j,   0.        +0.j,   0.        +0.j,  -1.78947368+0.j,   0.        +0.j,   0.        +0.j,   0.        +0.j],\n",
       "       [  0.        +0.j,   0.        +0.j,   0.        +0.j,   0.        +0.j,   3.79411765+0.j,   0.        +0.j,   0.        +0.j],\n",
       "       [  0.        +0.j,   0.        +0.j,   0.        +0.j,   0.        +0.j,   0.        +0.j,  -2.31782946+0.j,   0.        +0.j],\n",
       "       [  0.        +0.j,   0.        +0.j,   0.        +0.j,   0.        +0.j,   0.        +0.j,   0.        +0.j, -12.15719064+0.j]])"
      ]
     },
     "execution_count": 4,
     "metadata": {},
     "output_type": "execute_result"
    }
   ],
   "source": [
    "np.multiply(ml, mlt)"
   ]
  },
  {
   "cell_type": "code",
   "execution_count": null,
   "metadata": {},
   "outputs": [],
   "source": []
  }
 ],
 "metadata": {
  "kernelspec": {
   "display_name": "Python 3",
   "language": "python",
   "name": "python3"
  },
  "language_info": {
   "codemirror_mode": {
    "name": "ipython",
    "version": 3
   },
   "file_extension": ".py",
   "mimetype": "text/x-python",
   "name": "python",
   "nbconvert_exporter": "python",
   "pygments_lexer": "ipython3",
   "version": "3.7.3"
  }
 },
 "nbformat": 4,
 "nbformat_minor": 4
}

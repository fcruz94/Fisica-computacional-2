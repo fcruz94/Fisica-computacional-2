{
 "cells": [
  {
   "cell_type": "markdown",
   "metadata": {},
   "source": [
    "### Implementación de la secuencia de Aitken $\\Delta^2$"
   ]
  },
  {
   "cell_type": "code",
   "execution_count": 6,
   "metadata": {},
   "outputs": [
    {
     "name": "stdin",
     "output_type": "stream",
     "text": [
      "p_n:  (1-2*x**2)/10\n",
      "p_0:  0\n",
      "Términos:  5\n"
     ]
    },
    {
     "data": {
      "text/markdown": [
       "Términos hasta **$\\hat{p}_5$** para **$p_n = (1-2*x**2)/10$** con **$p_0 = 0$**"
      ],
      "text/plain": [
       "<IPython.core.display.Markdown object>"
      ]
     },
     "metadata": {},
     "output_type": "display_data"
    },
    {
     "data": {
      "text/html": [
       "<div>\n",
       "<style scoped>\n",
       "    .dataframe tbody tr th:only-of-type {\n",
       "        vertical-align: middle;\n",
       "    }\n",
       "\n",
       "    .dataframe tbody tr th {\n",
       "        vertical-align: top;\n",
       "    }\n",
       "\n",
       "    .dataframe thead th {\n",
       "        text-align: right;\n",
       "    }\n",
       "</style>\n",
       "<table border=\"1\" class=\"dataframe\">\n",
       "  <thead>\n",
       "    <tr style=\"text-align: right;\">\n",
       "      <th></th>\n",
       "      <th>$\\hat{p}_n$</th>\n",
       "    </tr>\n",
       "    <tr>\n",
       "      <th>$n$</th>\n",
       "      <th></th>\n",
       "    </tr>\n",
       "  </thead>\n",
       "  <tbody>\n",
       "    <tr>\n",
       "      <th>0</th>\n",
       "      <td>0.09803921568627</td>\n",
       "    </tr>\n",
       "    <tr>\n",
       "      <th>1</th>\n",
       "      <td>0.09807618314736</td>\n",
       "    </tr>\n",
       "    <tr>\n",
       "      <th>2</th>\n",
       "      <td>0.09807621130948</td>\n",
       "    </tr>\n",
       "    <tr>\n",
       "      <th>3</th>\n",
       "      <td>0.09807621135325</td>\n",
       "    </tr>\n",
       "    <tr>\n",
       "      <th>4</th>\n",
       "      <td>0.09807621135332</td>\n",
       "    </tr>\n",
       "    <tr>\n",
       "      <th>5</th>\n",
       "      <td>0.09807621135332</td>\n",
       "    </tr>\n",
       "  </tbody>\n",
       "</table>\n",
       "</div>"
      ],
      "text/plain": [
       "          $\\hat{p}_n$\n",
       "$n$                  \n",
       "0    0.09803921568627\n",
       "1    0.09807618314736\n",
       "2    0.09807621130948\n",
       "3    0.09807621135325\n",
       "4    0.09807621135332\n",
       "5    0.09807621135332"
      ]
     },
     "metadata": {},
     "output_type": "display_data"
    }
   ],
   "source": [
    "#################\n",
    "# Importaciones #\n",
    "#################\n",
    "\n",
    "import numpy as np\n",
    "import sympy as sp\n",
    "import scipy as sc\n",
    "import pandas as pd\n",
    "from IPython.display import Markdown, Math, Latex\n",
    "\n",
    "###########################################\n",
    "# Declaración de algunas variables útiles #\n",
    "###########################################\n",
    "\n",
    "x = sp.symbols('x')\n",
    "phat_matrix = []\n",
    "\n",
    "###############################################\n",
    "# Se define la función que aplicará el método #\n",
    "###############################################\n",
    "\n",
    "def aitken(p_n, p_0, terminos):\n",
    "    pn = sp.lambdify(x, p_n)\n",
    "    i = 1\n",
    "    p0 = p_0\n",
    "    while i <= terminos+1:\n",
    "        \n",
    "        p1 = pn(p0)\n",
    "        p2 = pn(p1)\n",
    "        phat = p0 - (p1-p0)**2/(p2-2*p1+p0)\n",
    "        p0 = p1\n",
    "        phat_matrix.append(phat)\n",
    "        i +=1\n",
    "\n",
    "##################################################################\n",
    "# Recolección de datos a través de la interacción con el usuario #\n",
    "##################################################################\n",
    "\n",
    "in_pn = input('p_n: ')\n",
    "in_p0 = eval(input('p_0: '))\n",
    "in_terminos = eval(input(\"Términos: \"))\n",
    "\n",
    "aitken(in_pn, in_p0, in_terminos)\n",
    "\n",
    "##############################\n",
    "# Se muestran los resultados #\n",
    "##############################\n",
    "\n",
    "display(Markdown(\"Términos hasta **${}_{}$** para **$p_n = {}$** con **$p_0 = {}$**\".format('\\hat{p}', in_terminos, in_pn, in_p0)))\n",
    "\n",
    "pd.set_option('display.precision', 14)\n",
    "\n",
    "datos = pd.DataFrame({'$\\hat{p}_n$': phat_matrix})\n",
    "\n",
    "#datos.index = np.arange(1, in_terminos+1, 1)\n",
    "datos.index.name = '$n$'\n",
    "\n",
    "display(datos)\n",
    "#####################################################\n",
    "# Los datos tabulados se guardan como archivo Latex # \n",
    "#####################################################\n",
    "\n",
    "datos.to_latex(\"aitken.tex\")\n",
    "\n",
    "#####################################################\n",
    "# Los datos tabulados se guardan como archivo CSV   # \n",
    "#####################################################\n",
    "\n",
    "datos.to_csv(\"aitken.csv\", index=None, header=False)"
   ]
  },
  {
   "cell_type": "code",
   "execution_count": 25,
   "metadata": {},
   "outputs": [
    {
     "name": "stdout",
     "output_type": "stream",
     "text": [
      "Help on method raw_input in module ipykernel.kernelbase:\n",
      "\n",
      "raw_input(prompt='') method of ipykernel.ipkernel.IPythonKernel instance\n",
      "    Forward raw_input to frontends\n",
      "    \n",
      "    Raises\n",
      "    ------\n",
      "    StdinNotImplentedError if active frontend doesn't support stdin.\n",
      "\n"
     ]
    }
   ],
   "source": [
    "help(input)"
   ]
  },
  {
   "cell_type": "code",
   "execution_count": null,
   "metadata": {},
   "outputs": [],
   "source": []
  }
 ],
 "metadata": {
  "kernelspec": {
   "display_name": "Python 3",
   "language": "python",
   "name": "python3"
  },
  "language_info": {
   "codemirror_mode": {
    "name": "ipython",
    "version": 3
   },
   "file_extension": ".py",
   "mimetype": "text/x-python",
   "name": "python",
   "nbconvert_exporter": "python",
   "pygments_lexer": "ipython3",
   "version": "3.7.3"
  }
 },
 "nbformat": 4,
 "nbformat_minor": 4
}

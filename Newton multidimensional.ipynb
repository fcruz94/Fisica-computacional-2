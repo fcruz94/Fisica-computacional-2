{
 "cells": [
  {
   "cell_type": "code",
   "execution_count": 59,
   "metadata": {},
   "outputs": [
    {
     "name": "stdout",
     "output_type": "stream",
     "text": [
      "IPython console for SymPy 1.3 (Python 3.7.5-64-bit) (ground types: python)\n",
      "\n",
      "These commands were executed:\n",
      ">>> from __future__ import division\n",
      ">>> from sympy import *\n",
      ">>> x, y, z, t = symbols('x y z t')\n",
      ">>> k, m, n = symbols('k m n', integer=True)\n",
      ">>> f, g, h = symbols('f g h', cls=Function)\n",
      ">>> init_printing()\n",
      "\n",
      "Documentation can be found at http://docs.sympy.org/1.3/\n",
      "\n"
     ]
    },
    {
     "data": {
      "text/markdown": [
       "Derivada respecto a $\\alpha$"
      ],
      "text/plain": [
       "<IPython.core.display.Markdown object>"
      ]
     },
     "metadata": {},
     "output_type": "display_data"
    },
    {
     "data": {
      "image/png": "[encoded data removed]",
      "text/latex": [
       "$$\\sum_{i=0}^{6} - x_{i} \\left(- \\beta \\sin{\\left (x_{i} \\right )} + y_{i} - e^{- \\alpha x_{i}}\\right) e^{- \\alpha x_{i}}$$"
      ],
      "text/plain": [
       "  6                                        \n",
       " ___                                       \n",
       " ╲                                         \n",
       "  ╲       ⎛                   -α⋅xᵢ⎞  -α⋅xᵢ\n",
       "  ╱   -xᵢ⋅⎝-β⋅sin(xᵢ) + yᵢ - ℯ     ⎠⋅ℯ     \n",
       " ╱                                         \n",
       " ‾‾‾                                       \n",
       "i = 0                                      "
      ]
     },
     "metadata": {},
     "output_type": "display_data"
    },
    {
     "data": {
      "text/markdown": [
       "Derivada respecto a $\\beta$"
      ],
      "text/plain": [
       "<IPython.core.display.Markdown object>"
      ]
     },
     "metadata": {},
     "output_type": "display_data"
    },
    {
     "data": {
      "image/png": "[encoded data removed]",
      "text/latex": [
       "$$\\sum_{i=0}^{6} \\left(- \\beta \\sin{\\left (x_{i} \\right )} + y_{i} - e^{- \\alpha x_{i}}\\right) \\sin{\\left (x_{i} \\right )}$$"
      ],
      "text/plain": [
       "  6                                     \n",
       " ___                                    \n",
       " ╲                                      \n",
       "  ╲   ⎛                   -α⋅xᵢ⎞        \n",
       "  ╱   ⎝-β⋅sin(xᵢ) + yᵢ - ℯ     ⎠⋅sin(xᵢ)\n",
       " ╱                                      \n",
       " ‾‾‾                                    \n",
       "i = 0                                   "
      ]
     },
     "metadata": {},
     "output_type": "display_data"
    },
    {
     "data": {
      "text/markdown": [
       "Sumatoria de la derivada respecto a $\\alpha$"
      ],
      "text/plain": [
       "<IPython.core.display.Markdown object>"
      ]
     },
     "metadata": {},
     "output_type": "display_data"
    },
    {
     "data": {
      "image/png": "[encoded data removed]",
      "text/latex": [
       "$$0.423360024179602 \\beta e^{- 3.0 \\alpha} + 1.49618036025989 \\beta e^{- 2.5 \\alpha} + 1.81859485365136 \\beta e^{- 2.0 \\alpha} + 1.49624247990608 \\beta e^{- 1.5 \\alpha} + 0.841470984807897 \\beta e^{- 1.0 \\alpha} + 0.239712769302102 \\beta e^{- 0.5 \\alpha} + 3.0 e^{- 6.0 \\alpha} + 2.5 e^{- 5.0 \\alpha} + 2.0 e^{- 4.0 \\alpha} + 1.5405 e^{- 3.0 \\alpha} + 2.0855 e^{- 2.5 \\alpha} + 3.7232 e^{- 2.0 \\alpha} + 2.211 e^{- 1.5 \\alpha} + 1.5157 e^{- 1.0 \\alpha} + 0.07845 e^{- 0.5 \\alpha}$$"
      ],
      "text/plain": [
       "                     -3.0⋅α                       -2.5⋅α                      \n",
       "0.423360024179602⋅β⋅ℯ       + 1.49618036025989⋅β⋅ℯ       + 1.81859485365136⋅β⋅\n",
       "\n",
       " -2.0⋅α                       -1.5⋅α                        -1.0⋅α            \n",
       "ℯ       + 1.49624247990608⋅β⋅ℯ       + 0.841470984807897⋅β⋅ℯ       + 0.2397127\n",
       "\n",
       "            -0.5⋅α        -6.0⋅α        -5.0⋅α        -4.0⋅α           -3.0⋅α \n",
       "69302102⋅β⋅ℯ       + 3.0⋅ℯ       + 2.5⋅ℯ       + 2.0⋅ℯ       + 1.5405⋅ℯ       \n",
       "\n",
       "          -2.5⋅α           -2.0⋅α          -1.5⋅α           -1.0⋅α            \n",
       "+ 2.0855⋅ℯ       + 3.7232⋅ℯ       + 2.211⋅ℯ       + 1.5157⋅ℯ       + 0.07845⋅ℯ\n",
       "\n",
       "-0.5⋅α\n",
       "      "
      ]
     },
     "metadata": {},
     "output_type": "display_data"
    },
    {
     "data": {
      "text/markdown": [
       "Sumatoria de la derivada respecto a $\\beta$"
      ],
      "text/plain": [
       "<IPython.core.display.Markdown object>"
      ]
     },
     "metadata": {},
     "output_type": "display_data"
    },
    {
     "data": {
      "image/png": "[encoded data removed]",
      "text/latex": [
       "$$4.9243026733159 \\beta + 6.82778219774137 + 0.423360024179602 e^{- 3.0 \\alpha} + 1.49618036025989 e^{- 2.5 \\alpha} + 1.81859485365136 e^{- 2.0 \\alpha} + 1.49624247990608 e^{- 1.5 \\alpha} + 0.841470984807897 e^{- 1.0 \\alpha} + 0.239712769302102 e^{- 0.5 \\alpha}$$"
      ],
      "text/plain": [
       "                                                          -3.0⋅α              \n",
       "4.9243026733159⋅β + 6.82778219774137 + 0.423360024179602⋅ℯ       + 1.496180360\n",
       "\n",
       "       -2.5⋅α                     -2.0⋅α                     -1.5⋅α           \n",
       "25989⋅ℯ       + 1.81859485365136⋅ℯ       + 1.49624247990608⋅ℯ       + 0.841470\n",
       "\n",
       "           -1.0⋅α                      -0.5⋅α\n",
       "984807897⋅ℯ       + 0.239712769302102⋅ℯ      "
      ]
     },
     "metadata": {},
     "output_type": "display_data"
    }
   ],
   "source": [
    "import numpy as np\n",
    "import pandas as pd\n",
    "from numpy import polynomial\n",
    "import sympy as sp\n",
    "import scipy as sc\n",
    "import scipy.integrate as integrate\n",
    "from IPython.display import Markdown, Math, Latex\n",
    "from pylab import *\n",
    "from matplotlib import pyplot as plt\n",
    "\n",
    "%matplotlib inline\n",
    "sp.init_session(use_latex=True)\n",
    "np.set_printoptions(suppress=True, linewidth=95, precision=8)\n",
    "\n",
    "m, a, i, n, x, y, t, ti = symbols('m a i n x_i y_i t t_i')\n",
    "alfa, beta = symbols('alpha beta')\n",
    "# x = Function('x')(i)\n",
    "# y = Function('y')(i)\n",
    "xar = np.array([0., 0.5, 1.0, 1.5, 2.0, 2.5, 3.0])\n",
    "yar = np.array([1.095, -0.1569, -1.0157, -1.4740, -1.3616, -0.8342, -0.0135])\n",
    "derivada_alfa = Sum((y-(exp(-alfa*x)+beta*sin(x)))*(-x*exp(-alfa*x)), (i, 0, 6))\n",
    "derivada_beta = Sum((y-(exp(-alfa*x)+beta*sin(x)))*sin(x), (i, 0, 6))\n",
    "display(Markdown('Derivada respecto a $\\\\alpha$'))\n",
    "display(derivada_alfa)\n",
    "display(Markdown('Derivada respecto a $\\\\beta$'))\n",
    "display(derivada_beta)\n",
    "# display(err.doit())\n",
    "suma1 = 0\n",
    "suma2 = 0\n",
    "for j in range(0, 7):\n",
    "    suma1 = suma1 +(yar[j] - (exp(-alfa*xar[j]) + beta*sin(xar[j])))*(-xar[j]*exp(-alfa*xar[j]))\n",
    "    suma2 = suma2 +(yar[j] - (exp(-alfa*xar[j]) + beta*sin(xar[j])))*(-xar[j]*sin(xar[j]))\n",
    "\n",
    "display(Markdown('Sumatoria de la derivada respecto a $\\\\alpha$'))\n",
    "display(expand(suma1))\n",
    "display(Markdown('Sumatoria de la derivada respecto a $\\\\beta$'))\n",
    "display(expand(suma2))  \n",
    "\n",
    "xmatrix = Matrix([suma1, suma2])\n",
    "ymatrix = Matrix([alfa, beta])\n",
    "jacobiano = (xmatrix.jacobian(ymatrix))\n",
    "# display(xmatrix.jacobian(ymatrix))\n",
    "# print('tamaño jacobiano: ', len(jacobiano))\n",
    "# print('tamaño suma1 : ', len(xmatrix))\n",
    "# display(xmatrix[0].evalf(subs={alfa: 1, beta: 0}))\n",
    "# display(xmatrix[1].evalf(subs={alfa: 1, beta: 0}))\n"
   ]
  },
  {
   "cell_type": "code",
   "execution_count": 22,
   "metadata": {},
   "outputs": [
    {
     "data": {
      "text/markdown": [
       "**Solución del sistema:<br> $\\alpha$= 0.464350992990676<br> $\\beta$= -1.9463748805251841 <br>después de 9 iteraciones**"
      ],
      "text/plain": [
       "<IPython.core.display.Markdown object>"
      ]
     },
     "metadata": {},
     "output_type": "display_data"
    }
   ],
   "source": [
    "def Newton_multi(F, J, x, tol):\n",
    "    \"\"\"\n",
    "    Implementación del método de newton para un sistema no lineal.\n",
    "    \n",
    "    Argumentos:\n",
    "        F   : matriz función\n",
    "        J   : jacobiando de F\n",
    "        x   : valores iniciales\n",
    "        tol : precisión\n",
    "    Devuelve:\n",
    "        x   : matriz con la solución\n",
    "        iteracion : número de iteraciones\n",
    "        \n",
    "    \"\"\"\n",
    "#     F_value = F(x)\n",
    "    F_value = np.zeros((len(x)))\n",
    "    J_value = np.zeros((len(x)))\n",
    "    F_value[0] = float(F[0].evalf(subs={alfa: x[0], beta: x[1]}))\n",
    "    F_value[1] = float(F[1].evalf(subs={alfa: x[0], beta: x[1]}))\n",
    "    J_value = np.asarray(J.evalf(subs={alfa: x[0], beta: x[1]}), dtype=float)\n",
    "\n",
    "#     F_value[0] = float(F[0].evalf(subs={x1: x[0], x2: x[1]}))\n",
    "#     F_value[1] = float(F[1].evalf(subs={x1: x[0], x2: x[1]}))\n",
    "#     J_value = np.asarray(J.evalf(subs={x1: x[0], x2: x[1]}), dtype=float)\n",
    "\n",
    "\n",
    "#     print(F_value)\n",
    "#     print(J_value)\n",
    "\n",
    "    F_norm = np.linalg.norm(F_value, ord=2)  # l2 norm of vector\n",
    "    iteracion = 0\n",
    "    while abs(F_norm) > tol and iteracion < 100:\n",
    "#     while iteration_counter < 100:\n",
    "        delta = np.linalg.solve(J_value, -F_value)\n",
    "#         delta = -J_value/F_value\n",
    "#         print('Delta: ', delta)\n",
    "        xprev = x\n",
    "        x = x + delta\n",
    "#         print('x :', x)\n",
    "#         F_value = x\n",
    "        F_value[0] = float(F[0].evalf(subs={alfa: x[0], beta: x[1]}))\n",
    "        F_value[1] = float(F[1].evalf(subs={alfa: x[0], beta: x[1]}))\n",
    "        J_value = np.asarray(J.evalf(subs={alfa: x[0], beta: x[1]}), dtype=float)\n",
    "        F_norm = np.linalg.norm(F_value, ord=2)\n",
    "        iteracion += 1\n",
    "\n",
    "    return x, iteracion\n",
    "   \n",
    "piniciales = np.array([0, 0])\n",
    "############\n",
    "## Tests\n",
    "# x1, x2 = symbols('x_1 x_2')\n",
    "# f = Matrix([x1**2-x2**2+2*x2, 2*x1+x2**2-6])\n",
    "# ym = Matrix([x1, x2])\n",
    "# piniciales2= np.array([-4.6, -3.8])\n",
    "# fx = Matrix([x1**2-x2**2+2*x2, 2*x1+x2**2-6])\n",
    "# ym = Matrix([x1, x2])\n",
    "# ja = f.jacobian(ym)\n",
    "# Newton_multi(fx, ja, piniciales2, 1e-3)\n",
    "############\n",
    "\n",
    "\n",
    "solucion = Newton_multi(xmatrix, jacobiano, piniciales, 1e-8)\n",
    "\n",
    "display(Markdown('**Solución del sistema:<br> $\\\\alpha$= {}<br> $\\\\beta$= {} <br>después de {} iteraciones**'.format(solucion[0][0], solucion[0][1], solucion[1])))\n",
    "# xmatrix.evalf(subs={alfa: solucion[0][0], beta:solucion[0][1]})"
   ]
  },
  {
   "cell_type": "code",
   "execution_count": 23,
   "metadata": {},
   "outputs": [
    {
     "data": {
      "text/markdown": [
       "Coeficiente $q_1$"
      ],
      "text/plain": [
       "<IPython.core.display.Markdown object>"
      ]
     },
     "metadata": {},
     "output_type": "display_data"
    },
    {
     "data": {
      "image/png": "[encoded data removed]",
      "text/latex": [
       "$$\\frac{\\alpha^{3} e^{- \\alpha t_{0}} + \\beta \\cos{\\left (t_{0} \\right )}}{3 \\alpha^{2} e^{- \\alpha t_{0}} - 3 \\beta \\sin{\\left (t_{0} \\right )}}$$"
      ],
      "text/plain": [
       "   3  -α⋅t₀              \n",
       "  α ⋅ℯ      + β⋅cos(t₀)  \n",
       "─────────────────────────\n",
       "   2  -α⋅t₀              \n",
       "3⋅α ⋅ℯ      - 3⋅β⋅sin(t₀)"
      ]
     },
     "metadata": {},
     "output_type": "display_data"
    },
    {
     "data": {
      "text/markdown": [
       "Coeficiente $p_0$"
      ],
      "text/plain": [
       "<IPython.core.display.Markdown object>"
      ]
     },
     "metadata": {},
     "output_type": "display_data"
    },
    {
     "data": {
      "image/png": "[encoded data removed]",
      "text/latex": [
       "$$\\beta \\sin{\\left (t_{0} \\right )} + e^{- \\alpha t_{0}}$$"
      ],
      "text/plain": [
       "             -α⋅t₀\n",
       "β⋅sin(t₀) + ℯ     "
      ]
     },
     "metadata": {},
     "output_type": "display_data"
    },
    {
     "data": {
      "text/markdown": [
       "Coeficiente $p_1$"
      ],
      "text/plain": [
       "<IPython.core.display.Markdown object>"
      ]
     },
     "metadata": {},
     "output_type": "display_data"
    },
    {
     "data": {
      "image/png": "[encoded data removed]",
      "text/latex": [
       "$$- \\alpha e^{- \\alpha t_{0}} + \\beta \\cos{\\left (t_{0} \\right )} + \\frac{\\left(\\alpha^{3} e^{- \\alpha t_{0}} + \\beta \\cos{\\left (t_{0} \\right )}\\right) \\left(\\beta \\sin{\\left (t_{0} \\right )} + e^{- \\alpha t_{0}}\\right)}{3 \\alpha^{2} e^{- \\alpha t_{0}} - 3 \\beta \\sin{\\left (t_{0} \\right )}}$$"
      ],
      "text/plain": [
       "                         ⎛ 3  -α⋅t₀            ⎞ ⎛             -α⋅t₀⎞\n",
       "     -α⋅t₀               ⎝α ⋅ℯ      + β⋅cos(t₀)⎠⋅⎝β⋅sin(t₀) + ℯ     ⎠\n",
       "- α⋅ℯ      + β⋅cos(t₀) + ────────────────────────────────────────────\n",
       "                                     2  -α⋅t₀                        \n",
       "                                  3⋅α ⋅ℯ      - 3⋅β⋅sin(t₀)          "
      ]
     },
     "metadata": {},
     "output_type": "display_data"
    },
    {
     "data": {
      "text/markdown": [
       "Coeficiente $p_2$"
      ],
      "text/plain": [
       "<IPython.core.display.Markdown object>"
      ]
     },
     "metadata": {},
     "output_type": "display_data"
    },
    {
     "data": {
      "image/png": "[encoded data removed]",
      "text/latex": [
       "$$\\frac{\\alpha^{2} e^{- \\alpha t_{0}}}{2} - \\frac{\\beta \\sin{\\left (t_{0} \\right )}}{2} + \\frac{\\left(- \\alpha e^{- \\alpha t_{0}} + \\beta \\cos{\\left (t_{0} \\right )}\\right) \\left(\\alpha^{3} e^{- \\alpha t_{0}} + \\beta \\cos{\\left (t_{0} \\right )}\\right)}{3 \\alpha^{2} e^{- \\alpha t_{0}} - 3 \\beta \\sin{\\left (t_{0} \\right )}}$$"
      ],
      "text/plain": [
       " 2  -α⋅t₀               ⎛     -α⋅t₀            ⎞ ⎛ 3  -α⋅t₀            ⎞\n",
       "α ⋅ℯ        β⋅sin(t₀)   ⎝- α⋅ℯ      + β⋅cos(t₀)⎠⋅⎝α ⋅ℯ      + β⋅cos(t₀)⎠\n",
       "───────── - ───────── + ────────────────────────────────────────────────\n",
       "    2           2                     2  -α⋅t₀                          \n",
       "                                   3⋅α ⋅ℯ      - 3⋅β⋅sin(t₀)            "
      ]
     },
     "metadata": {},
     "output_type": "display_data"
    },
    {
     "data": {
      "text/markdown": [
       "Padé:"
      ],
      "text/plain": [
       "<IPython.core.display.Markdown object>"
      ]
     },
     "metadata": {},
     "output_type": "display_data"
    },
    {
     "data": {
      "image/png": "[encoded data removed]",
      "text/latex": [
       "$$\\frac{- 0.348462054870606 t + 1.02974422766155 \\left(t - 1.5\\right)^{2} - 0.920492905814042}{- 0.0142817943840221 t + 1.02142269157603}$$"
      ],
      "text/plain": [
       "                                                 2                    \n",
       "-0.348462054870606⋅t + 1.02974422766155⋅(t - 1.5)  - 0.920492905814042\n",
       "──────────────────────────────────────────────────────────────────────\n",
       "               -0.0142817943840221⋅t + 1.02142269157603               "
      ]
     },
     "metadata": {},
     "output_type": "display_data"
    },
    {
     "data": {
      "image/png": "[encoded data removed]",
      "text/plain": [
       "<Figure size 720x576 with 1 Axes>"
      ]
     },
     "metadata": {
      "needs_background": "light"
     },
     "output_type": "display_data"
    }
   ],
   "source": [
    "############################\n",
    "## GRÁFICAS [apartado e)] ##\n",
    "############################\n",
    "a= solucion[0][0]\n",
    "b = solucion[0][1]\n",
    "\n",
    "plt.figure(figsize=(10, 8))\n",
    "plt.xlabel('t', fontsize='18')\n",
    "plt.ylabel('$d(t)$', fontsize='18')\n",
    "plt.grid(True)\n",
    "ejeY = arange(-0.1, 3.2, 0.1)\n",
    "\n",
    "### Datos experimentales\n",
    "t_exp = xar #= [0, 0.5, 1.0, 1.5, 2.0, 2.5, 3.0]\n",
    "dt_exp = yar #[1.095, -0.1569, -1.0157, -1.4740, -1.3616, -0.8342, -0.0135]\n",
    "plt.plot(t_exp, dt_exp, 'o', label='Datos experimentales')\n",
    "\n",
    "### Mínimos cuadrados\n",
    "dt = exp(-a*t)+b*sin(t)\n",
    "plt.plot(ejeY,[dt.evalf(subs={t:k}) for k in ejeY], label='Mínimos cuadrados')\n",
    "\n",
    "### Padé\n",
    "t0 = symbols('t_0')\n",
    "q1 = (alfa**3*exp(-alfa*t0)+beta*cos(t0))/(3*(alfa**2*exp(-alfa*t0)-beta*sin(t0)))\n",
    "display(Markdown('Coeficiente $q_1$'))\n",
    "display(q1)\n",
    "p0 = exp(-alfa*t0)+beta*sin(t0)\n",
    "display(Markdown('Coeficiente $p_0$'))\n",
    "display(p0)\n",
    "p1 = (exp(-alfa*t0)+beta*sin(t0))*(alfa**3*exp(-alfa*t0)+beta*cos(t0))/(3*(alfa**2*exp(-alfa*t0)-beta*sin(t0)))-alfa*exp(-alfa*t0)+beta*cos(t0)\n",
    "display(Markdown('Coeficiente $p_1$'))\n",
    "display(p1)\n",
    "p2 = (-alfa*exp(-alfa*t0)+beta*cos(t0))*(alfa**3*exp(-alfa*t0)+beta*cos(t0))/(3*(alfa**2*exp(-alfa*t0)-beta*sin(t0)))+((alfa**2*exp(-alfa*t0)-beta*sin(t0))/(2))\n",
    "display(Markdown('Coeficiente $p_2$'))\n",
    "display(p2)\n",
    "numerador = p0.evalf(subs={t0: 1.5, alfa:a, beta:b})+p1.evalf(subs={t0: 1.5, alfa:a, beta:b})*(t-1.5)+p2.evalf(subs={t0: 1.5, alfa:a, beta:b})*(t-1.5)**2\n",
    "denominador = 1+q1.evalf(subs={t0: 1.5, alfa:a, beta:b})*(t-1.5)\n",
    "# Aproximante de Padé\n",
    "app_pade = numerador/denominador\n",
    "display(Markdown('Padé:'))\n",
    "display(app_pade)\n",
    "\n",
    "plt.plot(ejeY, [app_pade.evalf(subs={t:k}) for k in ejeY], label='Aproximante de Padé')\n",
    "\n",
    "plt.legend(loc='best', fontsize='14')\n",
    "\n",
    "plt.savefig('apartado_e.png')"
   ]
  },
  {
   "cell_type": "code",
   "execution_count": 58,
   "metadata": {},
   "outputs": [
    {
     "data": {
      "image/png": "[encoded data removed]",
      "text/latex": [
       "$$\\left(- \\beta \\sin{\\left (x_{i} \\right )} + y_{i} - e^{- \\alpha x_{i}}\\right)^{2}$$"
      ],
      "text/plain": [
       "                          2\n",
       "⎛                   -α⋅xᵢ⎞ \n",
       "⎝-β⋅sin(xᵢ) + yᵢ - ℯ     ⎠ "
      ]
     },
     "metadata": {},
     "output_type": "display_data"
    },
    {
     "data": {
      "text/plain": [
       "'d_a'"
      ]
     },
     "metadata": {},
     "output_type": "display_data"
    },
    {
     "data": {
      "image/png": "[encoded data removed]",
      "text/latex": [
       "$$2 x_{i} \\left(- \\beta \\sin{\\left (x_{i} \\right )} + y_{i} - e^{- \\alpha x_{i}}\\right) e^{- \\alpha x_{i}}$$"
      ],
      "text/plain": [
       "     ⎛                   -α⋅xᵢ⎞  -α⋅xᵢ\n",
       "2⋅xᵢ⋅⎝-β⋅sin(xᵢ) + yᵢ - ℯ     ⎠⋅ℯ     "
      ]
     },
     "metadata": {},
     "output_type": "display_data"
    },
    {
     "data": {
      "text/plain": [
       "'d_b'"
      ]
     },
     "metadata": {},
     "output_type": "display_data"
    },
    {
     "data": {
      "image/png": "[encoded data removed]",
      "text/latex": [
       "$$- 2 \\left(- \\beta \\sin{\\left (x_{i} \\right )} + y_{i} - e^{- \\alpha x_{i}}\\right) \\sin{\\left (x_{i} \\right )}$$"
      ],
      "text/plain": [
       "   ⎛                   -α⋅xᵢ⎞        \n",
       "-2⋅⎝-β⋅sin(xᵢ) + yᵢ - ℯ     ⎠⋅sin(xᵢ)"
      ]
     },
     "metadata": {},
     "output_type": "display_data"
    },
    {
     "data": {
      "text/plain": [
       "'d_aa'"
      ]
     },
     "metadata": {},
     "output_type": "display_data"
    },
    {
     "data": {
      "image/png": "[encoded data removed]",
      "text/latex": [
       "$$- 2 x_{i}^{2} \\left(- \\beta \\sin{\\left (x_{i} \\right )} + y_{i} - e^{- \\alpha x_{i}}\\right) e^{- \\alpha x_{i}} + 2 x_{i}^{2} e^{- 2 \\alpha x_{i}}$$"
      ],
      "text/plain": [
       "      2 ⎛                   -α⋅xᵢ⎞  -α⋅xᵢ       2  -2⋅α⋅xᵢ\n",
       "- 2⋅xᵢ ⋅⎝-β⋅sin(xᵢ) + yᵢ - ℯ     ⎠⋅ℯ      + 2⋅xᵢ ⋅ℯ       "
      ]
     },
     "metadata": {},
     "output_type": "display_data"
    },
    {
     "data": {
      "text/plain": [
       "'d_bb'"
      ]
     },
     "metadata": {},
     "output_type": "display_data"
    },
    {
     "data": {
      "image/png": "[encoded data removed]",
      "text/latex": [
       "$$2 \\sin^{2}{\\left (x_{i} \\right )}$$"
      ],
      "text/plain": [
       "     2    \n",
       "2⋅sin (xᵢ)"
      ]
     },
     "metadata": {},
     "output_type": "display_data"
    },
    {
     "data": {
      "text/plain": [
       "'d_ab'"
      ]
     },
     "metadata": {},
     "output_type": "display_data"
    },
    {
     "data": {
      "image/png": "[encoded data removed]",
      "text/latex": [
       "$$- 2 x_{i} e^{- \\alpha x_{i}} \\sin{\\left (x_{i} \\right )}$$"
      ],
      "text/plain": [
       "       -α⋅xᵢ        \n",
       "-2⋅xᵢ⋅ℯ     ⋅sin(xᵢ)"
      ]
     },
     "metadata": {},
     "output_type": "display_data"
    },
    {
     "data": {
      "text/plain": [
       "'d_ba'"
      ]
     },
     "metadata": {},
     "output_type": "display_data"
    },
    {
     "data": {
      "image/png": "[encoded data removed]",
      "text/latex": [
       "$$- 2 x_{i} e^{- \\alpha x_{i}} \\sin{\\left (x_{i} \\right )}$$"
      ],
      "text/plain": [
       "       -α⋅xᵢ        \n",
       "-2⋅xᵢ⋅ℯ     ⋅sin(xᵢ)"
      ]
     },
     "metadata": {},
     "output_type": "display_data"
    },
    {
     "data": {
      "text/plain": [
       "'Base hessiano'"
      ]
     },
     "metadata": {},
     "output_type": "display_data"
    },
    {
     "data": {
      "image/png": "[encoded data removed]",
      "text/latex": [
       "$$- 4 x_{i}^{2} e^{- 2 \\alpha x_{i}} \\sin^{2}{\\left (x_{i} \\right )} + 2 \\left(- 2 x_{i}^{2} \\left(- \\beta \\sin{\\left (x_{i} \\right )} + y_{i} - e^{- \\alpha x_{i}}\\right) e^{- \\alpha x_{i}} + 2 x_{i}^{2} e^{- 2 \\alpha x_{i}}\\right) \\sin^{2}{\\left (x_{i} \\right )}$$"
      ],
      "text/plain": [
       "      2  -2⋅α⋅xᵢ    2         ⎛      2 ⎛                   -α⋅xᵢ⎞  -α⋅xᵢ      \n",
       "- 4⋅xᵢ ⋅ℯ       ⋅sin (xᵢ) + 2⋅⎝- 2⋅xᵢ ⋅⎝-β⋅sin(xᵢ) + yᵢ - ℯ     ⎠⋅ℯ      + 2⋅x\n",
       "\n",
       " 2  -2⋅α⋅xᵢ⎞    2    \n",
       "ᵢ ⋅ℯ       ⎠⋅sin (xᵢ)"
      ]
     },
     "metadata": {},
     "output_type": "display_data"
    },
    {
     "data": {
      "text/plain": [
       "'Valor del hessiano'"
      ]
     },
     "metadata": {},
     "output_type": "display_data"
    },
    {
     "data": {
      "image/png": "[encoded data removed]",
      "text/latex": [
       "$$0.0319415259787372$$"
      ],
      "text/plain": [
       "0.0319415259787372"
      ]
     },
     "metadata": {},
     "output_type": "display_data"
    },
    {
     "data": {
      "text/plain": [
       "'Segunda derivada respecto a alfa'"
      ]
     },
     "metadata": {},
     "output_type": "display_data"
    },
    {
     "data": {
      "image/png": "[encoded data removed]",
      "text/latex": [
       "$$5.72298628474443$$"
      ],
      "text/plain": [
       "5.72298628474443"
      ]
     },
     "metadata": {},
     "output_type": "display_data"
    }
   ],
   "source": [
    "\"\"\"\n",
    "Apartado d)\n",
    "    Utilizando el criterio de la matriz hessiana se intenta demostrar que los valores \n",
    "    de alfa y beta encontrados generar un error mínimo\n",
    "\"\"\"\n",
    "\n",
    "err_cuadratico = (y-(exp(-alfa*x)+beta*sin(x)))**2\n",
    "display(err_cuadratico)\n",
    "\n",
    "d_a = diff(err_cuadratico, alfa)\n",
    "d_b = diff(err_cuadratico, beta)\n",
    "d_aa = diff(d_a, alfa)\n",
    "d_ab = diff(d_a, beta)\n",
    "d_bb = diff(d_b, beta)\n",
    "d_ba = diff(d_b, alfa)\n",
    "display('d_a')\n",
    "display(d_a)\n",
    "display('d_b')\n",
    "display(d_b)\n",
    "display('d_aa')\n",
    "display(d_aa)\n",
    "display('d_bb')\n",
    "display(d_bb)\n",
    "display('d_ab')\n",
    "display(d_ab)\n",
    "display('d_ba')\n",
    "display(d_ba)\n",
    "\n",
    "h = d_aa * d_bb - d_ab**2\n",
    "display('Base hessiano')\n",
    "display(h)\n",
    "sumah = 0\n",
    "for j in range(0, 7):\n",
    "            ##−4𝑥2𝑖𝑒−2𝛼𝑥𝑖sin2(𝑥𝑖)+2(−2𝑥2𝑖(−𝛽sin(𝑥𝑖)+𝑦𝑖−𝑒−𝛼𝑥𝑖)𝑒−𝛼𝑥𝑖+2𝑥2𝑖𝑒−2𝛼𝑥𝑖)sin2(𝑥𝑖)\n",
    "    sumah += -4*xar[j]**2*exp(-2*alfa*xar[j])*(sin(xar[j]))**2+2*(-2*(xar[j])**2*(-beta*sin(xar[j])+yar[j]-exp(-alfa*xar[j]))*exp(-alfa*xar[j])+2*xar[j]**2*exp(-2*alfa*xar[j]))*(sin(xar[j]))**2\n",
    "\n",
    "display('Valor del hessiano')\n",
    "display(sumah.evalf(subs={alfa:solucion[0][0], beta:solucion[0][1]}))\n",
    "sumad_aa = 0\n",
    "for j in range(0, 7):\n",
    "    sumad_aa += -2*xar[j]**2*exp(-alfa*xar[j])*(-beta*sin(xar[j])+yar[j]-exp(-alfa*xar[j]))+2*xar[j]**2*exp(-2*alfa*xar[j])\n",
    "\n",
    "display(\"Segunda derivada respecto a alfa\")\n",
    "display(sumad_aa.evalf(subs={alfa:solucion[0][0], beta:solucion[0][1]}))\n",
    "\n",
    "# display(Markdown('__Hessiano: __'))\n",
    "# display(Markdown('Hessiano: '))\n",
    "# display(h)\n",
    "# display('valor hessiano')\n",
    "# valorh = h.evalf(subs={alfa: solucion[0][0], beta: solucion[0][1]})\n",
    "# display(valorh)\n",
    "\n",
    "# if suma12 == suma21:\n",
    "#     print(\"Iguales\")"
   ]
  },
  {
   "cell_type": "code",
   "execution_count": 5,
   "metadata": {},
   "outputs": [
    {
     "data": {
      "image/png": "[encoded data removed]",
      "text/latex": [
       "$$\\frac{\\alpha^{3} + \\beta e^{\\alpha t_{0}} \\cos{\\left (t_{0} \\right )}}{3 \\left(\\alpha^{2} - \\beta e^{\\alpha t_{0}} \\sin{\\left (t_{0} \\right )}\\right)}$$"
      ],
      "text/plain": [
       "   3      α⋅t₀          \n",
       "  α  + β⋅ℯ    ⋅cos(t₀)  \n",
       "────────────────────────\n",
       "  ⎛ 2      α⋅t₀        ⎞\n",
       "3⋅⎝α  - β⋅ℯ    ⋅sin(t₀)⎠"
      ]
     },
     "metadata": {},
     "output_type": "display_data"
    },
    {
     "data": {
      "image/png": "[encoded data removed]",
      "text/latex": [
       "$$\\frac{\\left(- \\alpha \\left(\\alpha^{2} - \\beta e^{\\alpha t_{0}} \\sin{\\left (t_{0} \\right )}\\right) + \\beta \\left(\\alpha^{2} - \\beta e^{\\alpha t_{0}} \\sin{\\left (t_{0} \\right )}\\right) e^{\\alpha t_{0}} \\cos{\\left (t_{0} \\right )} + \\frac{\\left(\\alpha^{3} + \\beta e^{\\alpha t_{0}} \\cos{\\left (t_{0} \\right )}\\right) \\left(\\beta e^{\\alpha t_{0}} \\sin{\\left (t_{0} \\right )} + 1\\right)}{3}\\right) e^{- \\alpha t_{0}}}{\\alpha^{2} - \\beta e^{\\alpha t_{0}} \\sin{\\left (t_{0} \\right )}}$$"
      ],
      "text/plain": [
       "⎛                                                                      ⎛ 3    \n",
       "⎜    ⎛ 2      α⋅t₀        ⎞     ⎛ 2      α⋅t₀        ⎞  α⋅t₀           ⎝α  + β\n",
       "⎜- α⋅⎝α  - β⋅ℯ    ⋅sin(t₀)⎠ + β⋅⎝α  - β⋅ℯ    ⋅sin(t₀)⎠⋅ℯ    ⋅cos(t₀) + ───────\n",
       "⎝                                                                             \n",
       "──────────────────────────────────────────────────────────────────────────────\n",
       "                                                     2      α⋅t₀              \n",
       "                                                    α  - β⋅ℯ    ⋅sin(t₀)      \n",
       "\n",
       "  α⋅t₀        ⎞ ⎛   α⋅t₀            ⎞⎞       \n",
       "⋅ℯ    ⋅cos(t₀)⎠⋅⎝β⋅ℯ    ⋅sin(t₀) + 1⎠⎟  -α⋅t₀\n",
       "─────────────────────────────────────⎟⋅ℯ     \n",
       "              3                      ⎠       \n",
       "─────────────────────────────────────────────\n",
       "                                             \n",
       "                                             "
      ]
     },
     "metadata": {},
     "output_type": "display_data"
    },
    {
     "data": {
      "image/png": "[encoded data removed]",
      "text/latex": [
       "$$\\frac{\\left(\\alpha^{4} + 2 \\alpha^{3} \\beta e^{\\alpha t_{0}} \\cos{\\left (t_{0} \\right )} - 6 \\alpha^{2} \\beta e^{\\alpha t_{0}} \\sin{\\left (t_{0} \\right )} - 2 \\alpha \\beta e^{\\alpha t_{0}} \\cos{\\left (t_{0} \\right )} + \\beta^{2} e^{2 \\alpha t_{0}} \\sin^{2}{\\left (t_{0} \\right )} + 2 \\beta^{2} e^{2 \\alpha t_{0}}\\right) e^{- \\alpha t_{0}}}{6 \\left(\\alpha^{2} - \\beta e^{\\alpha t_{0}} \\sin{\\left (t_{0} \\right )}\\right)}$$"
      ],
      "text/plain": [
       "⎛ 4      3    α⋅t₀              2    α⋅t₀                  α⋅t₀            2  \n",
       "⎝α  + 2⋅α ⋅β⋅ℯ    ⋅cos(t₀) - 6⋅α ⋅β⋅ℯ    ⋅sin(t₀) - 2⋅α⋅β⋅ℯ    ⋅cos(t₀) + β ⋅ℯ\n",
       "──────────────────────────────────────────────────────────────────────────────\n",
       "                                                ⎛ 2      α⋅t₀        ⎞        \n",
       "                                              6⋅⎝α  - β⋅ℯ    ⋅sin(t₀)⎠        \n",
       "\n",
       "2⋅α⋅t₀    2          2  2⋅α⋅t₀⎞  -α⋅t₀\n",
       "      ⋅sin (t₀) + 2⋅β ⋅ℯ      ⎠⋅ℯ     \n",
       "──────────────────────────────────────\n",
       "                                      \n",
       "                                      "
      ]
     },
     "metadata": {},
     "output_type": "display_data"
    },
    {
     "data": {
      "image/png": "[encoded data removed]",
      "text/latex": [
       "$$- 0.348462054870606 t$$"
      ],
      "text/plain": [
       "-0.348462054870606⋅t"
      ]
     },
     "metadata": {},
     "output_type": "display_data"
    }
   ],
   "source": [
    "display(simplify(q1))\n",
    "display(simplify(p1))\n",
    "display(simplify(p2))\n",
    "\n",
    "display(p1.evalf(subs={t0:1.5, alfa:a, beta:b})*t)"
   ]
  },
  {
   "cell_type": "code",
   "execution_count": 6,
   "metadata": {},
   "outputs": [
    {
     "data": {
      "image/png": "[encoded data removed]",
      "text/latex": [
       "$$\\sum_{i=0}^{6} \\left(d{\\left (t_{i} \\right )} - \\frac{- 0.348462054870606 t + 1.02974422766155 \\left(t - 1.5\\right)^{2} - 0.920492905814042}{- 0.0142817943840221 t + 1.02142269157603}\\right)^{2}$$"
      ],
      "text/plain": [
       "  6                                                                           \n",
       "_____                                                                         \n",
       "╲                                                                             \n",
       " ╲                                                                            \n",
       "  ╲   ⎛                                                         2             \n",
       "   ╲  ⎜        -0.348462054870606⋅t + 1.02974422766155⋅(t - 1.5)  - 0.92049290\n",
       "   ╱  ⎜d(tᵢ) - ───────────────────────────────────────────────────────────────\n",
       "  ╱   ⎝                       -0.0142817943840221⋅t + 1.02142269157603        \n",
       " ╱                                                                            \n",
       "╱                                                                             \n",
       "‾‾‾‾‾                                                                         \n",
       "i = 0                                                                         \n",
       "\n",
       "         \n",
       "         \n",
       "         \n",
       "        2\n",
       "       ⎞ \n",
       "5814042⎟ \n",
       "───────⎟ \n",
       "       ⎠ \n",
       "         \n",
       "         \n",
       "         \n",
       "         "
      ]
     },
     "metadata": {},
     "output_type": "display_data"
    },
    {
     "data": {
      "text/markdown": [
       "**Error cuadrático para el aproximante de Padé:**"
      ],
      "text/plain": [
       "<IPython.core.display.Markdown object>"
      ]
     },
     "metadata": {},
     "output_type": "display_data"
    },
    {
     "data": {
      "image/png": "[encoded data removed]",
      "text/latex": [
       "$$0.0875780415003634$$"
      ],
      "text/plain": [
       "0.0875780415003634"
      ]
     },
     "metadata": {},
     "output_type": "display_data"
    }
   ],
   "source": [
    "\"\"\"\n",
    "Error cuadrático para el aproximante de Padé\n",
    "\"\"\"\n",
    "d = Function('d')(ti)\n",
    "err_pade = Sum((d-app_pade)**2, (i, 0, 6))\n",
    "display(err_pade)\n",
    "error = 0\n",
    "for j in range(0,6):\n",
    "    error += (yar[j]-app_pade.evalf(subs={t: xar[j]}))**2\n",
    "display(Markdown('**Error cuadrático para el aproximante de Padé:**'))\n",
    "display(error)"
   ]
  },
  {
   "cell_type": "code",
   "execution_count": 7,
   "metadata": {},
   "outputs": [
    {
     "data": {
      "text/markdown": [
       "**Error cuadrático para mínimos cuadrados:**"
      ],
      "text/plain": [
       "<IPython.core.display.Markdown object>"
      ]
     },
     "metadata": {},
     "output_type": "display_data"
    },
    {
     "data": {
      "image/png": "[encoded data removed]",
      "text/latex": [
       "$$0.0107677208861712$$"
      ],
      "text/plain": [
       "0.0107677208861712"
      ]
     },
     "metadata": {},
     "output_type": "display_data"
    }
   ],
   "source": [
    "\"\"\"\n",
    "Error cuadrático para mínimos cuadrados\n",
    "\"\"\"\n",
    "error_cuadratico = 0\n",
    "for j in range(0, 6):\n",
    "    error_cuadratico += (yar[j]-(exp(-a*xar[j])+b*sin(xar[j])))**2\n",
    "\n",
    "display(Markdown('**Error cuadrático para mínimos cuadrados:**'))\n",
    "display(error_cuadratico)"
   ]
  },
  {
   "cell_type": "code",
   "execution_count": 8,
   "metadata": {},
   "outputs": [
    {
     "data": {
      "text/markdown": [
       "**Polinomio de Taylor para $t_0$ genérico:**"
      ],
      "text/plain": [
       "<IPython.core.display.Markdown object>"
      ]
     },
     "metadata": {},
     "output_type": "display_data"
    },
    {
     "data": {
      "image/png": "[encoded data removed]",
      "text/latex": [
       "$$\\beta \\sin{\\left (t_{0} \\right )} + \\left(t - t_{0}\\right)^{3} \\left(- \\frac{\\alpha^{3} e^{- \\alpha t_{0}}}{6} - \\frac{\\beta \\cos{\\left (t_{0} \\right )}}{6}\\right) + \\left(t - t_{0}\\right)^{2} \\left(\\frac{\\alpha^{2} e^{- \\alpha t_{0}}}{2} - \\frac{\\beta \\sin{\\left (t_{0} \\right )}}{2}\\right) + \\left(t - t_{0}\\right) \\left(- \\alpha e^{- \\alpha t_{0}} + \\beta \\cos{\\left (t_{0} \\right )}\\right) + e^{- \\alpha t_{0}}$$"
      ],
      "text/plain": [
       "                      ⎛   3  -α⋅t₀            ⎞             ⎛ 2  -α⋅t₀        \n",
       "                    3 ⎜  α ⋅ℯ        β⋅cos(t₀)⎟           2 ⎜α ⋅ℯ        β⋅sin\n",
       "β⋅sin(t₀) + (t - t₀) ⋅⎜- ───────── - ─────────⎟ + (t - t₀) ⋅⎜───────── - ─────\n",
       "                      ⎝      6           6    ⎠             ⎝    2           2\n",
       "\n",
       "    ⎞                                             \n",
       "(t₀)⎟            ⎛     -α⋅t₀            ⎞    -α⋅t₀\n",
       "────⎟ + (t - t₀)⋅⎝- α⋅ℯ      + β⋅cos(t₀)⎠ + ℯ     \n",
       "    ⎠                                             "
      ]
     },
     "metadata": {},
     "output_type": "display_data"
    },
    {
     "data": {
      "text/markdown": [
       "**Polinomio de Taylor para $t_0=1.5$, $\\alpha=0.464350992990676$ y $\\beta=-1.9463748805251841$:**"
      ],
      "text/plain": [
       "<IPython.core.display.Markdown object>"
      ]
     },
     "metadata": {},
     "output_type": "display_data"
    },
    {
     "data": {
      "image/png": "[encoded data removed]",
      "text/latex": [
       "$$- 0.369073340410837 t + 0.0146313155672225 \\left(t - 1.5\\right)^{3} + 1.02447319810118 \\left(t - 1.5\\right)^{2} - 0.889575977503696$$"
      ],
      "text/plain": [
       "                                                   3                          \n",
       "-0.369073340410837⋅t + 0.0146313155672225⋅(t - 1.5)  + 1.02447319810118⋅(t - 1\n",
       "\n",
       "   2                    \n",
       ".5)  - 0.889575977503696"
      ]
     },
     "metadata": {},
     "output_type": "display_data"
    }
   ],
   "source": [
    "\"\"\"\n",
    "Apartado g): polinomio de Taylor para un t0\n",
    "arbitrario y particularización para t0=1,5 y\n",
    "valores alfa y beta calculados.\n",
    "\"\"\"\n",
    "\n",
    "x = symbols('x')\n",
    "def factorial(n):\n",
    "    if n <= 0:\n",
    "        return 1\n",
    "    else:\n",
    "        return n*factorial(n-1)\n",
    "def taylor(function,x0,n):\n",
    "    j = 0\n",
    "    p = 0\n",
    "    while j <= n:\n",
    "        p = p + (function.diff(t,j).subs(t, x0))/(factorial(j))*(t-x0)**j\n",
    "        j += 1\n",
    "    return p\n",
    "p_taylor_numerico = exp(-a*t)+b*sin(t)\n",
    "pol_numerico = taylor(p_taylor_numerico, 1.5, 3)\n",
    "\n",
    "p_taylor_simbolico = exp(-alfa*t)+beta*sin(t)\n",
    "pol_simbolico = taylor(p_taylor_simbolico, t0, 3)\n",
    "\n",
    "display(Markdown('**Polinomio de Taylor para $t_0$ genérico:**'))\n",
    "display(pol_simbolico)\n",
    "display(Markdown('**Polinomio de Taylor para $t_0=1.5$, $\\\\alpha={}$ y $\\\\beta={}$:**'.format(a, b)))\n",
    "display(pol_numerico)\n"
   ]
  },
  {
   "cell_type": "code",
   "execution_count": 75,
   "metadata": {},
   "outputs": [
    {
     "data": {
      "text/markdown": [
       "**Error cuadrático para el polinomio de Taylor:**"
      ],
      "text/plain": [
       "<IPython.core.display.Markdown object>"
      ]
     },
     "metadata": {},
     "output_type": "display_data"
    },
    {
     "data": {
      "image/png": "[encoded data removed]",
      "text/latex": [
       "$$0.08695119106068977$$"
      ],
      "text/plain": [
       "0.08695119106068977"
      ]
     },
     "metadata": {},
     "output_type": "display_data"
    },
    {
     "data": {
      "text/markdown": [
       "**Error cuadrático medio para el polinomio de Taylor:**"
      ],
      "text/plain": [
       "<IPython.core.display.Markdown object>"
      ]
     },
     "metadata": {},
     "output_type": "display_data"
    },
    {
     "data": {
      "image/png": "[encoded data removed]",
      "text/latex": [
       "$$0.012421598722955682$$"
      ],
      "text/plain": [
       "0.012421598722955682"
      ]
     },
     "metadata": {},
     "output_type": "display_data"
    },
    {
     "data": {
      "image/png": "[encoded data removed]",
      "text/latex": [
       "$$\\left ( 1.7678054709996087, \\quad 1.962658336962085e-14\\right )$$"
      ],
      "text/plain": [
       "(1.7678054709996087, 1.962658336962085e-14)"
      ]
     },
     "metadata": {},
     "output_type": "display_data"
    }
   ],
   "source": [
    "\"\"\"\n",
    "Error cuadrático para polinomio de Taylor\n",
    "\"\"\"\n",
    "error_cuadratico_taylor = 0\n",
    "error_cuadratico_medio_taylor = 0\n",
    "for j in range(0, 6):\n",
    "    error_cuadratico_taylor += ((yar[j]-(-0.369073340410837*xar[j]+\n",
    "                               0.0146313155672225*(xar[j]-1.5)**3+\n",
    "                               1.02447319810118*(xar[j]-1.5)**2-0.889575977503696)))**2\n",
    "\n",
    "error_cuadratico_medio_taylor = error_cuadratico_taylor/len(xar)\n",
    "\n",
    "display(Markdown('**Error cuadrático para el polinomio de Taylor:**'))\n",
    "display(error_cuadratico_taylor)\n",
    "display(Markdown('**Error cuadrático medio para el polinomio de Taylor:**'))\n",
    "display(error_cuadratico_medio_taylor)\n",
    "error_cuadratico2 = 0\n",
    "tayl = ((yar[j]-(-0.369073340410837*x+\n",
    "                               0.0146313155672225*(x-1.5)**3+\n",
    "                               1.02447319810118*(x-1.5)**2-0.889575977503696)))**2\n",
    "def integrand(x):\n",
    "    return ((yar[j]-(-0.369073340410837*x+\n",
    "                               0.0146313155672225*(x-1.5)**3+\n",
    "                               1.02447319810118*(x-1.5)**2-0.889575977503696)))**2\n",
    "error_integral = sc.integrate.quad(integrand, 0, 3)\n",
    "display(error_integral)"
   ]
  },
  {
   "cell_type": "code",
   "execution_count": 10,
   "metadata": {},
   "outputs": [
    {
     "data": {
      "text/latex": [
       "$$D(t)=-1.94637488052518*sin(t) + exp(-0.464350992990676*t)$$"
      ],
      "text/plain": [
       "<IPython.core.display.Math object>"
      ]
     },
     "metadata": {},
     "output_type": "display_data"
    },
    {
     "data": {
      "text/markdown": [
       "**Función de error para Taylor**"
      ],
      "text/plain": [
       "<IPython.core.display.Markdown object>"
      ]
     },
     "metadata": {},
     "output_type": "display_data"
    },
    {
     "data": {
      "image/png": "[encoded data removed]",
      "text/latex": [
       "$$\\left|{0.369073340410837 t - 0.0146313155672225 \\left(t - 1.5\\right)^{3} - 1.02447319810118 \\left(t - 1.5\\right)^{2} - 1.94637488052518 \\sin{\\left (t \\right )} + 0.889575977503696 + e^{- 0.464350992990676 t}}\\right|$$"
      ],
      "text/plain": [
       "│                                                  3                          \n",
       "│0.369073340410837⋅t - 0.0146313155672225⋅(t - 1.5)  - 1.02447319810118⋅(t - 1\n",
       "\n",
       "   2                                                  -0.464350992990676⋅t│\n",
       ".5)  - 1.94637488052518⋅sin(t) + 0.889575977503696 + ℯ                    │"
      ]
     },
     "metadata": {},
     "output_type": "display_data"
    },
    {
     "data": {
      "text/markdown": [
       "**Función de error para Padé**"
      ],
      "text/plain": [
       "<IPython.core.display.Markdown object>"
      ]
     },
     "metadata": {},
     "output_type": "display_data"
    },
    {
     "data": {
      "image/png": "[encoded data removed]",
      "text/latex": [
       "$$\\left|{- 1.94637488052518 \\sin{\\left (t \\right )} + e^{- 0.464350992990676 t} - \\frac{- 0.348462054870606 t + 1.02974422766155 \\left(t - 1.5\\right)^{2} - 0.920492905814042}{- 0.0142817943840221 t + 1.02142269157603}}\\right|$$"
      ],
      "text/plain": [
       "│                                                                             \n",
       "│                            -0.464350992990676⋅t   -0.348462054870606⋅t + 1.0\n",
       "│-1.94637488052518⋅sin(t) + ℯ                     - ──────────────────────────\n",
       "│                                                                  -0.01428179\n",
       "\n",
       "                       2                    │\n",
       "2974422766155⋅(t - 1.5)  - 0.920492905814042│\n",
       "────────────────────────────────────────────│\n",
       "43840221⋅t + 1.02142269157603               │"
      ]
     },
     "metadata": {},
     "output_type": "display_data"
    },
    {
     "data": {
      "text/html": [
       "<div>\n",
       "<style scoped>\n",
       "    .dataframe tbody tr th:only-of-type {\n",
       "        vertical-align: middle;\n",
       "    }\n",
       "\n",
       "    .dataframe tbody tr th {\n",
       "        vertical-align: top;\n",
       "    }\n",
       "\n",
       "    .dataframe thead th {\n",
       "        text-align: right;\n",
       "    }\n",
       "</style>\n",
       "<table border=\"1\" class=\"dataframe\">\n",
       "  <thead>\n",
       "    <tr style=\"text-align: right;\">\n",
       "      <th></th>\n",
       "      <th>t</th>\n",
       "      <th>$E= |D(t)-P_3(t)|$</th>\n",
       "      <th>$E= |D(t)-r(t)|$</th>\n",
       "    </tr>\n",
       "  </thead>\n",
       "  <tbody>\n",
       "    <tr>\n",
       "      <th>0</th>\n",
       "      <td>-0.1</td>\n",
       "      <td>0.468209529289515</td>\n",
       "      <td>0.469548384967562</td>\n",
       "    </tr>\n",
       "    <tr>\n",
       "      <th>1</th>\n",
       "      <td>0.0</td>\n",
       "      <td>0.366108028184578</td>\n",
       "      <td>0.367143708418873</td>\n",
       "    </tr>\n",
       "    <tr>\n",
       "      <th>2</th>\n",
       "      <td>0.1</td>\n",
       "      <td>0.281022566726020</td>\n",
       "      <td>0.281809577107221</td>\n",
       "    </tr>\n",
       "    <tr>\n",
       "      <th>3</th>\n",
       "      <td>0.2</td>\n",
       "      <td>0.211197271727935</td>\n",
       "      <td>0.211783207813833</td>\n",
       "    </tr>\n",
       "    <tr>\n",
       "      <th>4</th>\n",
       "      <td>0.3</td>\n",
       "      <td>0.154891229049294</td>\n",
       "      <td>0.155317230612237</td>\n",
       "    </tr>\n",
       "    <tr>\n",
       "      <th>5</th>\n",
       "      <td>0.4</td>\n",
       "      <td>0.110397890184693</td>\n",
       "      <td>0.110699098652581</td>\n",
       "    </tr>\n",
       "    <tr>\n",
       "      <th>6</th>\n",
       "      <td>0.5</td>\n",
       "      <td>0.0760640839949997</td>\n",
       "      <td>0.0762701031128188</td>\n",
       "    </tr>\n",
       "    <tr>\n",
       "      <th>7</th>\n",
       "      <td>0.6</td>\n",
       "      <td>0.0503084459552475</td>\n",
       "      <td>0.0504438056943928</td>\n",
       "    </tr>\n",
       "    <tr>\n",
       "      <th>8</th>\n",
       "      <td>0.7</td>\n",
       "      <td>0.0316390830110930</td>\n",
       "      <td>0.0317237067540045</td>\n",
       "    </tr>\n",
       "    <tr>\n",
       "      <th>9</th>\n",
       "      <td>0.8</td>\n",
       "      <td>0.0186702996715268</td>\n",
       "      <td>0.0187199746994167</td>\n",
       "    </tr>\n",
       "    <tr>\n",
       "      <th>10</th>\n",
       "      <td>0.9</td>\n",
       "      <td>0.0101382202487153</td>\n",
       "      <td>0.0101650715604562</td>\n",
       "    </tr>\n",
       "    <tr>\n",
       "      <th>11</th>\n",
       "      <td>1.0</td>\n",
       "      <td>0.00491515309297835</td>\n",
       "      <td>0.00492812058349315</td>\n",
       "    </tr>\n",
       "    <tr>\n",
       "      <th>12</th>\n",
       "      <td>1.1</td>\n",
       "      <td>0.00202255515243528</td>\n",
       "      <td>0.00202787417921358</td>\n",
       "    </tr>\n",
       "    <tr>\n",
       "      <th>13</th>\n",
       "      <td>1.2</td>\n",
       "      <td>0.000642469087903893</td>\n",
       "      <td>0.000644154454554185</td>\n",
       "    </tr>\n",
       "    <tr>\n",
       "      <th>14</th>\n",
       "      <td>1.3</td>\n",
       "      <td>0.000127320355132203</td>\n",
       "      <td>0.000127653741167086</td>\n",
       "    </tr>\n",
       "    <tr>\n",
       "      <th>15</th>\n",
       "      <td>1.4</td>\n",
       "      <td>7.97797651810152e-6</td>\n",
       "      <td>7.99884286151641e-6</td>\n",
       "    </tr>\n",
       "    <tr>\n",
       "      <th>16</th>\n",
       "      <td>1.5</td>\n",
       "      <td>1.06712052865962e-16</td>\n",
       "      <td>1.42437845082963e-16</td>\n",
       "    </tr>\n",
       "    <tr>\n",
       "      <th>17</th>\n",
       "      <td>1.6</td>\n",
       "      <td>8.00271101077653e-6</td>\n",
       "      <td>8.02363704120187e-6</td>\n",
       "    </tr>\n",
       "    <tr>\n",
       "      <th>18</th>\n",
       "      <td>1.7</td>\n",
       "      <td>0.000128111343600488</td>\n",
       "      <td>0.000128446639631328</td>\n",
       "    </tr>\n",
       "    <tr>\n",
       "      <th>19</th>\n",
       "      <td>1.8</td>\n",
       "      <td>0.000648469142247884</td>\n",
       "      <td>0.000650169013077870</td>\n",
       "    </tr>\n",
       "    <tr>\n",
       "      <th>20</th>\n",
       "      <td>1.9</td>\n",
       "      <td>0.00204780096548659</td>\n",
       "      <td>0.00205318111363142</td>\n",
       "    </tr>\n",
       "    <tr>\n",
       "      <th>21</th>\n",
       "      <td>2.0</td>\n",
       "      <td>0.00499204700287642</td>\n",
       "      <td>0.00500520102442335</td>\n",
       "    </tr>\n",
       "    <tr>\n",
       "      <th>22</th>\n",
       "      <td>2.1</td>\n",
       "      <td>0.0103291014043082</td>\n",
       "      <td>0.0103564168753617</td>\n",
       "    </tr>\n",
       "    <tr>\n",
       "      <th>23</th>\n",
       "      <td>2.2</td>\n",
       "      <td>0.0190817095028951</td>\n",
       "      <td>0.0191323877885580</td>\n",
       "    </tr>\n",
       "    <tr>\n",
       "      <th>24</th>\n",
       "      <td>2.3</td>\n",
       "      <td>0.0324385956610017</td>\n",
       "      <td>0.0325251754791588</td>\n",
       "    </tr>\n",
       "    <tr>\n",
       "      <th>25</th>\n",
       "      <td>2.4</td>\n",
       "      <td>0.0517439113998497</td>\n",
       "      <td>0.0518827961723487</td>\n",
       "    </tr>\n",
       "    <tr>\n",
       "      <th>26</th>\n",
       "      <td>2.5</td>\n",
       "      <td>0.0784851102103593</td>\n",
       "      <td>0.0786970992345129</td>\n",
       "    </tr>\n",
       "    <tr>\n",
       "      <th>27</th>\n",
       "      <td>2.6</td>\n",
       "      <td>0.114279371119091</td>\n",
       "      <td>0.114590194592760</td>\n",
       "    </tr>\n",
       "    <tr>\n",
       "      <th>28</th>\n",
       "      <td>2.7</td>\n",
       "      <td>0.160858707541640</td>\n",
       "      <td>0.161299565475495</td>\n",
       "    </tr>\n",
       "    <tr>\n",
       "      <th>29</th>\n",
       "      <td>2.8</td>\n",
       "      <td>0.220053911052023</td>\n",
       "      <td>0.220662016102923</td>\n",
       "    </tr>\n",
       "    <tr>\n",
       "      <th>30</th>\n",
       "      <td>2.9</td>\n",
       "      <td>0.293777491299572</td>\n",
       "      <td>0.294596615559347</td>\n",
       "    </tr>\n",
       "    <tr>\n",
       "      <th>31</th>\n",
       "      <td>3.0</td>\n",
       "      <td>0.384005783298574</td>\n",
       "      <td>0.385086809072847</td>\n",
       "    </tr>\n",
       "    <tr>\n",
       "      <th>32</th>\n",
       "      <td>3.1</td>\n",
       "      <td>0.492760401600452</td>\n",
       "      <td>0.494161876212495</td>\n",
       "    </tr>\n",
       "  </tbody>\n",
       "</table>\n",
       "</div>"
      ],
      "text/plain": [
       "      t    $E= |D(t)-P_3(t)|$      $E= |D(t)-r(t)|$\n",
       "0  -0.1     0.468209529289515     0.469548384967562\n",
       "1   0.0     0.366108028184578     0.367143708418873\n",
       "2   0.1     0.281022566726020     0.281809577107221\n",
       "3   0.2     0.211197271727935     0.211783207813833\n",
       "4   0.3     0.154891229049294     0.155317230612237\n",
       "5   0.4     0.110397890184693     0.110699098652581\n",
       "6   0.5    0.0760640839949997    0.0762701031128188\n",
       "7   0.6    0.0503084459552475    0.0504438056943928\n",
       "8   0.7    0.0316390830110930    0.0317237067540045\n",
       "9   0.8    0.0186702996715268    0.0187199746994167\n",
       "10  0.9    0.0101382202487153    0.0101650715604562\n",
       "11  1.0   0.00491515309297835   0.00492812058349315\n",
       "12  1.1   0.00202255515243528   0.00202787417921358\n",
       "13  1.2  0.000642469087903893  0.000644154454554185\n",
       "14  1.3  0.000127320355132203  0.000127653741167086\n",
       "15  1.4   7.97797651810152e-6   7.99884286151641e-6\n",
       "16  1.5  1.06712052865962e-16  1.42437845082963e-16\n",
       "17  1.6   8.00271101077653e-6   8.02363704120187e-6\n",
       "18  1.7  0.000128111343600488  0.000128446639631328\n",
       "19  1.8  0.000648469142247884  0.000650169013077870\n",
       "20  1.9   0.00204780096548659   0.00205318111363142\n",
       "21  2.0   0.00499204700287642   0.00500520102442335\n",
       "22  2.1    0.0103291014043082    0.0103564168753617\n",
       "23  2.2    0.0190817095028951    0.0191323877885580\n",
       "24  2.3    0.0324385956610017    0.0325251754791588\n",
       "25  2.4    0.0517439113998497    0.0518827961723487\n",
       "26  2.5    0.0784851102103593    0.0786970992345129\n",
       "27  2.6     0.114279371119091     0.114590194592760\n",
       "28  2.7     0.160858707541640     0.161299565475495\n",
       "29  2.8     0.220053911052023     0.220662016102923\n",
       "30  2.9     0.293777491299572     0.294596615559347\n",
       "31  3.0     0.384005783298574     0.385086809072847\n",
       "32  3.1     0.492760401600452     0.494161876212495"
      ]
     },
     "metadata": {},
     "output_type": "display_data"
    },
    {
     "data": {
      "image/png": "[encoded data removed]",
      "text/plain": [
       "<Figure size 720x576 with 1 Axes>"
      ]
     },
     "metadata": {
      "needs_background": "light"
     },
     "output_type": "display_data"
    }
   ],
   "source": [
    "\"\"\"\n",
    "Funciones de error apartado g)\n",
    "    - Función de error D(t)-P(t=1.5)\n",
    "    - Función de error D(t)-r(t=1.5)\n",
    "\"\"\"\n",
    "pade_coord=[]\n",
    "taylor_coord = []\n",
    "\n",
    "display(Math('D(t)={}'.format(dt)))\n",
    "\n",
    "ferror_dt_pt = abs(dt - pol_numerico)\n",
    "ferror_dt_rt = abs(dt - app_pade)\n",
    "\n",
    "display(Markdown('**Función de error para Taylor**'))\n",
    "display(ferror_dt_pt)\n",
    "display(Markdown('**Función de error para Padé**'))\n",
    "display(ferror_dt_rt)\n",
    "\n",
    "plt.figure(figsize=(10, 8))\n",
    "plt.grid(True)\n",
    "plt.xlabel('t', fontsize='18')\n",
    "plt.ylabel('Error', fontsize='18')\n",
    "\n",
    "plt.plot(ejeY, [abs(ferror_dt_pt.evalf(subs={t:j})) for j in ejeY], 'r--', label='Función de error para $E= |D(t)-P_3(t)|$', linewidth=\"1\")\n",
    "plt.plot(ejeY, [abs(ferror_dt_rt.evalf(subs={t:j})) for j in ejeY], 'g:', label='Función de error para $E= |D(t)-r(t)|$', linewidth=\"3\")\n",
    "plt.legend(loc='best', fontsize='14')\n",
    "plt.savefig('apartado_g.png')\n",
    "\n",
    "[taylor_coord.append(abs(ferror_dt_pt.evalf(subs={t:j}))) for j in ejeY]\n",
    "\n",
    "[pade_coord.append(abs(ferror_dt_rt.evalf(subs={t:j}))) for j in ejeY]\n",
    "\n",
    "tabla = pd.DataFrame({\n",
    "                        't':ejeY,\n",
    "                        '$E= |D(t)-P_3(t)|$':taylor_coord,\n",
    "                        '$E= |D(t)-r(t)|$': pade_coord\n",
    "})\n",
    "tabla.to_latex('apartado_g.tex')\n",
    "display(tabla)"
   ]
  },
  {
   "cell_type": "code",
   "execution_count": 11,
   "metadata": {},
   "outputs": [
    {
     "data": {
      "text/markdown": [
       "**Funciones de error:**"
      ],
      "text/plain": [
       "<IPython.core.display.Markdown object>"
      ]
     },
     "metadata": {},
     "output_type": "display_data"
    },
    {
     "data": {
      "text/markdown": [
       "Función de error para $t_0=1.0$"
      ],
      "text/plain": [
       "<IPython.core.display.Markdown object>"
      ]
     },
     "metadata": {},
     "output_type": "display_data"
    },
    {
     "data": {
      "image/png": "[encoded data removed]",
      "text/latex": [
       "$$\\left|{- 1.94637488052518 \\sin{\\left (t \\right )} + e^{- 0.464350992990676 t} - \\frac{- 1.15592733982961 t + 1.13635373093537 \\left(t - 1.0\\right)^{2} + 0.146652253901488}{- 0.185844294889463 t + 1.18584429488946}}\\right|$$"
      ],
      "text/plain": [
       "│                                                                             \n",
       "│                            -0.464350992990676⋅t   -1.15592733982961⋅t + 1.13\n",
       "│-1.94637488052518⋅sin(t) + ℯ                     - ──────────────────────────\n",
       "│                                                                  -0.18584429\n",
       "\n",
       "                      2                    │\n",
       "635373093537⋅(t - 1.0)  + 0.146652253901488│\n",
       "───────────────────────────────────────────│\n",
       "4889463⋅t + 1.18584429488946               │"
      ]
     },
     "metadata": {},
     "output_type": "display_data"
    },
    {
     "data": {
      "text/markdown": [
       "Función de error para $t_0=1.5$"
      ],
      "text/plain": [
       "<IPython.core.display.Markdown object>"
      ]
     },
     "metadata": {},
     "output_type": "display_data"
    },
    {
     "data": {
      "image/png": "[encoded data removed]",
      "text/latex": [
       "$$\\left|{- 1.94637488052518 \\sin{\\left (t \\right )} + e^{- 0.464350992990676 t} - \\frac{- 0.348462054870606 t + 1.02974422766155 \\left(t - 1.5\\right)^{2} - 0.920492905814042}{- 0.0142817943840221 t + 1.02142269157603}}\\right|$$"
      ],
      "text/plain": [
       "│                                                                             \n",
       "│                            -0.464350992990676⋅t   -0.348462054870606⋅t + 1.0\n",
       "│-1.94637488052518⋅sin(t) + ℯ                     - ──────────────────────────\n",
       "│                                                                  -0.01428179\n",
       "\n",
       "                       2                    │\n",
       "2974422766155⋅(t - 1.5)  - 0.920492905814042│\n",
       "────────────────────────────────────────────│\n",
       "43840221⋅t + 1.02142269157603               │"
      ]
     },
     "metadata": {},
     "output_type": "display_data"
    },
    {
     "data": {
      "text/markdown": [
       "Función de error para $t_0=2.0$"
      ],
      "text/plain": [
       "<IPython.core.display.Markdown object>"
      ]
     },
     "metadata": {},
     "output_type": "display_data"
    },
    {
     "data": {
      "image/png": "[encoded data removed]",
      "text/latex": [
       "$$\\left|{1.94637488052518 \\sin{\\left (t \\right )} - e^{- 0.464350992990676 t} + \\frac{0.416663279253168 t + 1.02315195827541 \\left(t - 2.0\\right)^{2} - 2.20809404986338}{0.15265497529559 t + 0.694690049408821}}\\right|$$"
      ],
      "text/plain": [
       "│                                                                             \n",
       "│                           -0.464350992990676⋅t   0.416663279253168⋅t + 1.023\n",
       "│1.94637488052518⋅sin(t) - ℯ                     + ───────────────────────────\n",
       "│                                                                 0.1526549752\n",
       "\n",
       "                     2                   │\n",
       "15195827541⋅(t - 2.0)  - 2.20809404986338│\n",
       "─────────────────────────────────────────│\n",
       "9559⋅t + 0.694690049408821               │"
      ]
     },
     "metadata": {},
     "output_type": "display_data"
    },
    {
     "data": {
      "image/png": "[encoded data removed]",
      "text/plain": [
       "<Figure size 720x576 with 1 Axes>"
      ]
     },
     "metadata": {
      "needs_background": "light"
     },
     "output_type": "display_data"
    }
   ],
   "source": [
    "\"\"\"\n",
    "Apartado f):\n",
    "    - Error absoluto entre D(t) y el aproximante de Padé en t0=1.0, 1.5 y 2.0\n",
    "    - Gráfica de los errores         \n",
    "\"\"\"\n",
    "\n",
    "### t_0 = 1.0\n",
    "# display(ferror_dt_rt)\n",
    "display(Markdown('**Funciones de error:**'))\n",
    "display(Markdown('Función de error para $t_0=1.0$'))\n",
    "numerador1 = p0.evalf(subs={t0: 1.0, alfa:a, beta:b})+p1.evalf(subs={t0: 1.0, alfa:a, beta:b})*(t-1.0)+p2.evalf(subs={t0: 1.0, alfa:a, beta:b})*(t-1.0)**2\n",
    "denominador1 = 1+q1.evalf(subs={t0: 1.0, alfa:a, beta:b})*(t-1.0)\n",
    "pade_10 = numerador1/denominador1\n",
    "ferror_10 = abs(dt-pade_10)\n",
    "display(ferror_10)\n",
    "\n",
    "display(Markdown('Función de error para $t_0=1.5$'))\n",
    "numerador15 = p0.evalf(subs={t0: 1.5, alfa:a, beta:b})+p1.evalf(subs={t0: 1.5, alfa:a, beta:b})*(t-1.5)+p2.evalf(subs={t0: 1.5, alfa:a, beta:b})*(t-1.5)**2\n",
    "denominador15 = 1+q1.evalf(subs={t0: 1.5, alfa:a, beta:b})*(t-1.5)\n",
    "pade_15 = numerador15/denominador15\n",
    "ferror_15 = abs(dt-pade_15)\n",
    "display(ferror_15)\n",
    "\n",
    "display(Markdown('Función de error para $t_0=2.0$'))\n",
    "numerador20 = p0.evalf(subs={t0: 2.0, alfa:a, beta:b})+p1.evalf(subs={t0: 2.0, alfa:a, beta:b})*(t-2.0)+p2.evalf(subs={t0: 2.0, alfa:a, beta:b})*(t-2.0)**2\n",
    "denominador20 = 1+q1.evalf(subs={t0: 2.0, alfa:a, beta:b})*(t-2.0)\n",
    "pade_20 = numerador20/denominador20\n",
    "ferror_20 = abs(dt-pade_20)\n",
    "display(ferror_20)\n",
    "\n",
    "#############\n",
    "## Gráfica ##\n",
    "#############\n",
    "\n",
    "\n",
    "\n",
    "plt.figure(figsize=(10, 8))\n",
    "plt.grid(True)\n",
    "\n",
    "plt.xlabel('$t$', fontsize='16')\n",
    "plt.ylabel('Error absoluto', fontsize='16')\n",
    "\n",
    "plt.plot(ejeY, [ferror_10.evalf(subs={t:j}) for j in ejeY], label='Función de error para $t_0=1.0$')\n",
    "plt.plot(ejeY, [ferror_15.evalf(subs={t:j}) for j in ejeY], label='Función de error para $t_0=1.5$')\n",
    "plt.plot(ejeY, [ferror_20.evalf(subs={t:j}) for j in ejeY], label='Función de error para $t_0=2.0$')\n",
    "\n",
    "plt.legend(loc='best', fontsize='14')\n",
    "\n",
    "plt.savefig('apartado_f.png')\n",
    "\n"
   ]
  },
  {
   "cell_type": "code",
   "execution_count": null,
   "metadata": {},
   "outputs": [],
   "source": []
  }
 ],
 "metadata": {
  "kernelspec": {
   "display_name": "Python 3",
   "language": "python",
   "name": "python3"
  },
  "language_info": {
   "codemirror_mode": {
    "name": "ipython",
    "version": 3
   },
   "file_extension": ".py",
   "mimetype": "text/x-python",
   "name": "python",
   "nbconvert_exporter": "python",
   "pygments_lexer": "ipython3",
   "version": "3.7.5rc1"
  }
 },
 "nbformat": 4,
 "nbformat_minor": 4
}

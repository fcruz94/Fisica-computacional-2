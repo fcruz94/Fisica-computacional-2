{
 "cells": [
  {
   "cell_type": "code",
   "execution_count": 7,
   "metadata": {},
   "outputs": [
    {
     "data": {
      "text/markdown": [
       "__=================== MATRIZ B ===================__"
      ],
      "text/plain": [
       "<IPython.core.display.Markdown object>"
      ]
     },
     "metadata": {},
     "output_type": "display_data"
    },
    {
     "name": "stdout",
     "output_type": "stream",
     "text": [
      "MATRIZ L ====================================\n",
      "[[ 10.           0.           0.           0.           0.           0.           0.        ]\n",
      " [ -1.           1.5          0.           0.           0.           0.           0.        ]\n",
      " [  0.           5.          -6.33333333   0.           0.           0.           0.        ]\n",
      " [  0.           0.          -1.          -1.78947368   0.           0.           0.        ]\n",
      " [  0.           0.           0.           5.           3.79411765   0.           0.        ]\n",
      " [  0.           0.           0.           0.           1.          -2.31782946   0.        ]\n",
      " [  0.           0.           0.           0.           0.           5.         -12.15719064]]\n",
      "MATRIZ U ====================================\n",
      "[[ 1.          0.5         0.          0.          0.          0.          0.        ]\n",
      " [ 0.          1.          0.66666667  0.          0.          0.          0.        ]\n",
      " [ 0.          0.          1.         -0.78947368 -0.         -0.         -0.        ]\n",
      " [ 0.          0.          0.          1.         -0.55882353 -0.         -0.        ]\n",
      " [ 0.          0.          0.          0.          1.          1.31782946  0.        ]\n",
      " [ 0.          0.          0.          0.          0.          1.          0.43143813]\n",
      " [ 0.          0.          0.          0.          0.          0.          1.        ]]\n"
     ]
    },
    {
     "data": {
      "text/markdown": [
       "<br>__Número de sumas/diferencias: 12.<br>Número de productos/cocientes: 12.__"
      ],
      "text/plain": [
       "<IPython.core.display.Markdown object>"
      ]
     },
     "metadata": {},
     "output_type": "display_data"
    },
    {
     "data": {
      "text/markdown": [
       "<br>__Número total de operaciones: 24.__"
      ],
      "text/plain": [
       "<IPython.core.display.Markdown object>"
      ]
     },
     "metadata": {},
     "output_type": "display_data"
    }
   ],
   "source": [
    "import numpy as np\n",
    "from IPython.display import Markdown\n",
    "\n",
    "np.set_printoptions(suppress=True, linewidth=95) # Ajuste para la presentación en pantalla con print()\n",
    "\n",
    "def crea_matriz():\n",
    "    \"\"\"\n",
    "    Crea la matriz  del sistema de ecuaciones a partir de la entrada\n",
    "    del usuario y solicita del mismo el ajuste de cifras significativas\n",
    "    \"\"\"\n",
    "    A =[]\n",
    "    # Número de filas, es también el de incógnitas\n",
    "    filas = int(input('Número de incógnitas: '))\n",
    "    columnas = filas \n",
    "\n",
    "    # Entrada de las filas de la matriz\n",
    "    print('Introduzca cada fila seguida de \"Enter\" (ejemplo: (2 1 3 4) => 2 1 3 4): ')\n",
    "    for i in range(filas):\n",
    "        nfila = list(map(float, input().rstrip().split()))\n",
    "        while len(nfila) != columnas :\n",
    "            print('Entrada inválida, ha introducido {} elementos y han de ser igual a {}. Vuelva a intentarlo: '.format(len(nfila), columnas))\n",
    "            nfila = list(map(float, input().rstrip().split()))\n",
    "        A.append(nfila)\n",
    "    display(Markdown('__Matriz A:__ '))\n",
    "    muestra_matriz(A)\n",
    "    return (A)\n",
    "\n",
    "def muestra_matriz(m):\n",
    "    \"\"\"\n",
    "    Muestra una matriz fila a fila\n",
    "    param m: matriz que se desea mostrar\n",
    "    \"\"\"\n",
    "    for linea in m:\n",
    "        display(linea)\n",
    "\n",
    "def crout(A):\n",
    "    \"\"\"\n",
    "    Implementación del método de Crout para la factorización de una matriz A.\n",
    "    Devuelve la matriz triangular inferior, L, y la matriz triangular\n",
    "    superior, U, de dicha matriz A, tal que L*U=A\n",
    "    Este método se caracteriza porque requiere que todos los elementos de la \n",
    "    diagonal principal de la matriz U sean 1.\n",
    "    \n",
    "    param A: matriz que se desea factorizar.\n",
    "    \n",
    "    \"\"\"\n",
    "    n = len(A)\n",
    "    cols= len(A[0])\n",
    "\n",
    "    l = np.zeros((len(A), len(A))) # Se inicializan las matrices L y U\n",
    "    u = np.zeros((len(A), len(A))) #\n",
    "    \n",
    "    global num_sumas # Recoje el número total de sumas y/o diferencias\n",
    "    global num_productos # Recoje el número total de productos y/o cocientes\n",
    "    \n",
    "    num_sumas = 0\n",
    "    num_productos = 0\n",
    "    \n",
    "    for k in range(0, n):\n",
    "        u[k, k] = 1 \n",
    "\n",
    "        for j in range(k, n):\n",
    "            sum0 = 0\n",
    "            for s in range(0, j):\n",
    "                sum0 +=  l[j, s ]* u[s, k]\n",
    "                if l[j, s]!=0 and u[s, k]!=0:\n",
    "                    num_sumas += 1\n",
    "                    num_productos +=1\n",
    "            l[j, k] = A[j, k] - sum0 \n",
    "            if A[j, k]!=0 and sum0!=0:\n",
    "                num_sumas += 1\n",
    "\n",
    "        for j in range(k+1, n):\n",
    "            sum1 = 0\n",
    "            for s in range(0, k):\n",
    "                sum1 += l[k, s] * u[s, j]\n",
    "                if l[k, s]!=0 and u[s, j]!=0:\n",
    "                    num_sumas += 1\n",
    "                    num_productos +=1\n",
    "            \n",
    "            u[k, j] = (A[k, j] - sum1) / l[k, k]\n",
    "            if A[k, j]!=0 and sum1!=0:\n",
    "                num_sumas += 1\n",
    "            if A[k, j]!=0 or sum1!=0:\n",
    "                num_productos +=1\n",
    "\n",
    "    print('MATRIZ L ====================================')\n",
    "    print(l)\n",
    "    print('MATRIZ U ====================================')\n",
    "    print(u)\n",
    "    return l, u\n",
    "\n",
    "#A = np.array([[60.0, 30.0, 20.0], [30.0, 20.0, 15.0], [20.0, 15.0, 12.0]])\n",
    "\n",
    "#####################################################################\n",
    "# Por comodidad se han escrito aquí las matrices de los             #\n",
    "# apartados correspondientes del enunciado.                         #\n",
    "# Si se desea utilizar con cualquier otra matriz empleando          #\n",
    "# la entrada de usuario implementada, la llamada a la función       #\n",
    "# ha de hacerse de la siguiente forma:                              #\n",
    "#                                                                   #\n",
    "#    matriz_resultadoL, matriz_resultadoU = crout(crea_matriz())    #\n",
    "#                                                                   #\n",
    "#####################################################################\n",
    "\n",
    "# Matriz apartado b) PEC 2\n",
    "matriz2 = [[1.0, -1.0, 0.0, 0.0, -1.0, 0.0, 0.0],\n",
    "    [1.0, 0.0, -1.0, 0.0, 0.0, 0.0, -1.0],\n",
    "    [0.0, 1.0, 0.0, -1.0, 0.0, 1.0, 0.0],\n",
    "    [1.0, 0.0, 0.0, 0.0, 5.0, 0.0, 5.0],\n",
    "    [0.0, -3.0, 0.0, 0.0, 5.0, 5.0, 0.0],\n",
    "    [0.0, 0.0, -10.0, 0.0, 0.0, 0.0, 5.0],\n",
    "    [0.0, 0.0, 0.0, 10.0, 0.0, 5.0, 0.0]\n",
    "    ]\n",
    "# Matriz apartado c) PEC 2\n",
    "matrizB = [[10.0, 5.0, 0.0, 0.0, 0.0, 0.0, 0.0],\n",
    "           [-1.0, 1.0, 1.0, 0.0, 0.0, 0.0, 0.0],\n",
    "           [0.0, 5.0, -3.0, 5.0, 0.0, 0.0, 0.0],\n",
    "           [0.0, 0.0, -1.0, -1.0, 1.0, 0.0, 0.0],\n",
    "           [0.0, 0.0, 0.0, 5.0, 1.0, 5.0, 0.0],\n",
    "           [0.0, 0.0, 0.0, 0.0, 1.0, -1.0, -1.0],\n",
    "           [0.0, 0.0, 0.0, 0.0, 0.0, 5.0, -10.0]\n",
    "            ]\n",
    "\n",
    "#display(Markdown(('__=================== MATRIZ A ===================__')))\n",
    "#A = np.asarray(matriz2)\n",
    "#ml, mu = crout(A)\n",
    "\n",
    "display(Markdown(('__=================== MATRIZ B ===================__')))\n",
    "B = np.asarray(matrizB)\n",
    "mbl, mbu = crout (B)\n",
    "\n",
    "display(Markdown((\"<br>__Número de sumas/diferencias: {}.<br>Número de productos/cocientes: {}.__\".format(num_productos, num_sumas))))\n",
    "display(Markdown((\"<br>__Número total de operaciones: {}.__\".format(num_productos + num_sumas))))"
   ]
  },
  {
   "cell_type": "code",
   "execution_count": 18,
   "metadata": {},
   "outputs": [
    {
     "name": "stdout",
     "output_type": "stream",
     "text": [
      "[ 1.          0.66666667 -1.05263158  0.58823529  0.54263566  0.23411371 -0.72627235]\n",
      "======== resultado para x ========\n",
      "[ 0.44429161  1.11141678 -0.66712517  0.48830812 -0.17881706  0.5474553  -0.72627235]\n"
     ]
    }
   ],
   "source": [
    "tind = np.array([10, 0, 10, 0, 5, 0, 10])\n",
    "\n",
    "yarray = np.linalg.solve(mbl, tind)\n",
    "print(yarray)\n",
    "xarray = np.linalg.solve(mbu, yarray)\n",
    "print('======== resultado para x ========')\n",
    "print(xarray)\n"
   ]
  },
  {
   "cell_type": "code",
   "execution_count": 43,
   "metadata": {},
   "outputs": [
    {
     "name": "stdout",
     "output_type": "stream",
     "text": [
      "645/23\n",
      "-250/23\n"
     ]
    }
   ],
   "source": [
    "from fractions import Fraction\n",
    "print(Fraction(28.04347826).limit_denominator())\n",
    "print(Fraction(-10.86956522).limit_denominator())"
   ]
  },
  {
   "cell_type": "code",
   "execution_count": 41,
   "metadata": {},
   "outputs": [
    {
     "name": "stdout",
     "output_type": "stream",
     "text": [
      "[ 10.         -10.          20.         -20.          -1.08695652  -5.           3.92022008]\n",
      "======== resultado para x ========\n",
      "[ 5.88033012  0.97661623  1.96011004 -2.34112792 -5.09628611  6.68225585  3.92022008]\n"
     ]
    }
   ],
   "source": [
    "tind = np.array([10, 0, 10, 0, 5, 0, 10])\n",
    "\n",
    "\n",
    "yarray = np.linalg.solve(ml, tind)\n",
    "print(yarray)\n",
    "xarray = np.linalg.solve(mu, yarray)\n",
    "print('======== resultado para x ========')\n",
    "print(xarray)"
   ]
  },
  {
   "cell_type": "code",
   "execution_count": null,
   "metadata": {},
   "outputs": [],
   "source": []
  }
 ],
 "metadata": {
  "kernelspec": {
   "display_name": "Python 3",
   "language": "python",
   "name": "python3"
  },
  "language_info": {
   "codemirror_mode": {
    "name": "ipython",
    "version": 3
   },
   "file_extension": ".py",
   "mimetype": "text/x-python",
   "name": "python",
   "nbconvert_exporter": "python",
   "pygments_lexer": "ipython3",
   "version": "3.7.3"
  }
 },
 "nbformat": 4,
 "nbformat_minor": 4
}

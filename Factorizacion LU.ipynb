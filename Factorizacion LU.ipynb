{
 "cells": [
  {
   "cell_type": "code",
   "execution_count": 8,
   "metadata": {},
   "outputs": [
    {
     "data": {
      "text/markdown": [
       "**Matriz L:**"
      ],
      "text/plain": [
       "<IPython.core.display.Markdown object>"
      ]
     },
     "metadata": {},
     "output_type": "display_data"
    },
    {
     "name": "stdout",
     "output_type": "stream",
     "text": [
      "[[ 1.          0.          0.          0.          0.          0.          0.        ]\n",
      " [-0.1         1.          0.          0.          0.          0.          0.        ]\n",
      " [ 0.          3.33333333  1.          0.          0.          0.          0.        ]\n",
      " [ 0.          0.          0.15789474  1.          0.          0.          0.        ]\n",
      " [ 0.          0.         -0.         -2.79411765  1.          0.          0.        ]\n",
      " [ 0.          0.         -0.         -0.          0.26356589  1.          0.        ]\n",
      " [ 0.          0.         -0.         -0.          0.         -2.15719064  1.        ]]\n"
     ]
    },
    {
     "data": {
      "text/markdown": [
       "**Matriz U:**"
      ],
      "text/plain": [
       "<IPython.core.display.Markdown object>"
      ]
     },
     "metadata": {},
     "output_type": "display_data"
    },
    {
     "name": "stdout",
     "output_type": "stream",
     "text": [
      "[[ 10.           5.           0.           0.           0.           0.           0.        ]\n",
      " [  0.           1.5          1.           0.           0.           0.           0.        ]\n",
      " [  0.           0.          -6.33333333   5.           0.           0.           0.        ]\n",
      " [  0.           0.           0.          -1.78947368   1.           0.           0.        ]\n",
      " [  0.           0.           0.           0.           3.79411765   5.           0.        ]\n",
      " [  0.           0.           0.           0.           0.          -2.31782946  -1.        ]\n",
      " [  0.           0.           0.           0.           0.           0.         -12.15719064]]\n"
     ]
    },
    {
     "data": {
      "text/markdown": [
       "<br>__Número de sumas/diferencias: 22.<br>Número de productos/cocientes: 12.__"
      ],
      "text/plain": [
       "<IPython.core.display.Markdown object>"
      ]
     },
     "metadata": {},
     "output_type": "display_data"
    },
    {
     "data": {
      "text/markdown": [
       "<br>__Número total de operaciones: 34.__"
      ],
      "text/plain": [
       "<IPython.core.display.Markdown object>"
      ]
     },
     "metadata": {},
     "output_type": "display_data"
    }
   ],
   "source": [
    "import numpy as np\n",
    "import math\n",
    "from IPython.display import display, Math, Latex, Markdown\n",
    "\n",
    "np.set_printoptions(suppress=True, linewidth=95) # Ajuste para la presentación en pantalla con print()\n",
    "\n",
    "\n",
    "singular = False\n",
    "\n",
    "def crea_matriz():\n",
    "    \"\"\"\n",
    "    Crea la matriz ampliada del sistema de ecuaciones a partir de la entrada\n",
    "    del usuario y solicita del mismo el ajuste de cifras significativas\n",
    "    \"\"\"\n",
    "    A =[]\n",
    "    # Número de filas, es también el de incógnitas\n",
    "    filas = int(input('Número de incógnitas: '))\n",
    "    # Columnas de la ampliada = número de filas + 1\n",
    "    columnas = filas \n",
    "    # Ajuste de cifras significativas\n",
    "    #significativas = int(input('Cifras significativas requeridas (0 para ignorar): ') or '0')\n",
    "    # Entrada de las ecuaciones\n",
    "    print('Introduzca cada ecuación seguida de \"Enter\" (ejemplo: 2x+y+3z=4 => 2 1 3 4): ')\n",
    "    for i in range(filas):\n",
    "        nfila = list(map(float, input().rstrip().split()))\n",
    "        while len(nfila) != columnas :\n",
    "            print('Entrada inválida, ha introducido {} coeficientes y ha de ser igual a {}. Vuelva a intentarlo: '.format(len(nfila), columnas))\n",
    "            nfila = list(map(ajusta_entrada, input().rstrip().split()))\n",
    "        A.append(nfila)\n",
    "    display(Markdown('__Matriz A:__ '))\n",
    "    muestra_matriz(A)\n",
    "    return (A)\n",
    "\n",
    "def muestra_matriz(m):\n",
    "    \"\"\"\n",
    "    Muestra una matriz fila a filalongitud\n",
    "    param m: matriz que se desea mostrar\n",
    "    \"\"\"\n",
    "    for linea in m:\n",
    "        display(linea)\n",
    "\n",
    "def lu(A):\n",
    "    \"\"\"\n",
    "    Función que realiza la factorización LU de una matriz por\n",
    "    el método Doolittle que requiere que la diagonal principal de L\n",
    "    esté formada toda por 1.\n",
    "    Devuelve las latrices triangulares L y U\n",
    "    \n",
    "    param A: List; matriz a descomponer\n",
    "    \n",
    "    \"\"\"\n",
    "    n = len(A)\n",
    "    cols= len(A[0])\n",
    "    suma0 = 0\n",
    "    suma1 = 0\n",
    "    suma2 = 0\n",
    "    suma3 = 0\n",
    "    suma4 = 0\n",
    "    singular = None\n",
    "    \n",
    "    global num_sumas # Recoje el número total de sumas y/o diferencias\n",
    "    global num_productos # Recoje el número total de productos y/o cocientes\n",
    "    \n",
    "    num_sumas = 0\n",
    "    num_productos = 0\n",
    "\n",
    "\n",
    "    l = np.zeros((len(A), len(A))) # Se inicializan las matrices L y U\n",
    "    u = np.zeros((len(A), len(A))) #\n",
    "    u[0][0] = A[0][0]\n",
    "    l[0][0] = A[0][0]\n",
    "    \n",
    "    for i in range(n):\n",
    "        l[i][i] = 1.\n",
    "    \n",
    "    for j in range(0, n):\n",
    "        u[0][j] = A[0][j] # Primera fila de U\n",
    "    for j in range (1, n):\n",
    "        l[j][0] = A[j][0]/u[0][0] # Primera columna de L\n",
    "        num_productos +=1\n",
    "        \n",
    "    for i in range(1, n-1):\n",
    "        suma1 = 0\n",
    "        for k in range(0, i):\n",
    "            suma1 += l[i][k]*u[k][i]\n",
    "            if l[i][k]!=0 and u[k][i]!=0:\n",
    "                num_sumas += 1\n",
    "                num_productos += 1\n",
    "        u[i][i] = A[i][i] - suma1\n",
    "        if suma1 !=0 :\n",
    "            num_sumas += 1\n",
    "        if l[i][i] * u[i][i] == 0:\n",
    "            return('Factorización imposible')\n",
    "        for j in range(i+1, n):\n",
    "            suma2 = 0\n",
    "            suma3 = 0\n",
    "            for k in range(0, i):\n",
    "                suma2 += l[i][k]*u[k][j]\n",
    "                if l[i][k]!=0 and u[k][j]!=0:\n",
    "                    num_sumas += 1\n",
    "                    num_productos += 1\n",
    "                suma3 += l[j][k]*u[k][i]\n",
    "                if l[j][k]!=0 and u[k][i]!=0:\n",
    "                    num_sumas += 1\n",
    "                    num_productos += 1\n",
    "                #print(suma2, ' - ', suma3)\n",
    "            u[i][j] = (1/l[i][i])*(A[i][j]-suma2)  # i-ésima fila de U\n",
    "            if (A[i][j]-suma2)!=0:\n",
    "                num_productos += 1\n",
    "            if suma2!= 0:\n",
    "                num_sumas += 1\n",
    "            l[j][i] = (1/u[i][i])*(A[j][i]-suma3) # i-ésima columna de L\n",
    "            if (A[j][i]-suma3)!=0:\n",
    "                num_productos += 1\n",
    "            if suma3!= 0:\n",
    "                num_sumas += 1\n",
    "            \n",
    "    for k in range(0, n):\n",
    "        #suma4 = 0\n",
    "        suma4 += l[n-1][k]*u[k][n-1]\n",
    "        if l[n-1][k]!=0 and u[k][n-1]!=0:\n",
    "            num_sumas += 1\n",
    "            num_productos += 1\n",
    "        #print('suma4 :', suma4, ', k :', k)\n",
    "    u[n-1][n-1] = A[n-1][n-1] - suma4\n",
    "    if suma4!=0:\n",
    "        num_sumas += 1\n",
    "    if (l[n-1][n-1]*u[n-1][n-1] == 0):\n",
    "        singular = True\n",
    "    return(l, u)\n",
    "\n",
    "matriz =[[1.0, 1.0, 0.0, 3.0],\n",
    "         [2.0, 1.0, -1.0, 1.0],\n",
    "         [3.0, -1.0, -1.0, 2.0],\n",
    "         [-1.0, 2.0, 3.0, -1.0]]\n",
    "matriz2 = [[1.0, -1.0, 0.0, 0.0, -1.0, 0.0, 0.0],\n",
    "[1.0, 0.0, -1.0, 0.0, 0.0, 0.0, -1.0],\n",
    "[0.0, 1.0, 0.0, -1.0, 0.0, 1.0, 0.0],\n",
    "[1.0, 0.0, 0.0, 0.0, 5.0, 0.0, 5.0],\n",
    "[0.0, -3.0, 0.0, 0.0, 5.0, 5.0, 0.0],\n",
    "[0.0, 0.0, 0.0, 10.0, 0.0, 5.0, 0.0],\n",
    "[0.0, 0.0, -10.0, 0.0, 0.0, 0.0, 5.0]]\n",
    "\n",
    "# Matriz apartado c) PEC 2\n",
    "matrizB = [[10.0, 5.0, 0.0, 0.0, 0.0, 0.0, 0.0],\n",
    "           [-1.0, 1.0, 1.0, 0.0, 0.0, 0.0, 0.0],\n",
    "           [0.0, 5.0, -3.0, 5.0, 0.0, 0.0, 0.0],\n",
    "           [0.0, 0.0, -1.0, -1.0, 1.0, 0.0, 0.0],\n",
    "           [0.0, 0.0, 0.0, 5.0, 1.0, 5.0, 0.0],\n",
    "           [0.0, 0.0, 0.0, 0.0, 1.0, -1.0, -1.0],\n",
    "           [0.0, 0.0, 0.0, 0.0, 0.0, 5.0, -10.0]\n",
    "            ]\n",
    "\n",
    "#miL, miU = lu(crea_matriz())\n",
    "miL, miU = lu(matrizB)\n",
    "if (singular):\n",
    "    display(Markdown('**Atención:** la matriz A es **singular**'))\n",
    "\n",
    "display(Markdown('**Matriz L:**'))\n",
    "print(np.asarray(miL))\n",
    "display(Markdown('**Matriz U:**'))\n",
    "print(np.asarray(miU))\n",
    "\n",
    "display(Markdown((\"<br>__Número de sumas/diferencias: {}.<br>Número de productos/cocientes: {}.__\".format(num_productos, num_sumas))))\n",
    "display(Markdown((\"<br>__Número total de operaciones: {}.__\".format(num_productos + num_sumas))))"
   ]
  },
  {
   "cell_type": "code",
   "execution_count": 16,
   "metadata": {},
   "outputs": [
    {
     "name": "stdout",
     "output_type": "stream",
     "text": [
      "[10.          1.          6.66666667 -1.05263158  2.05882353 -0.54263566  8.82943144]\n",
      "======== resultado para x ========\n",
      "[ 0.44429161  1.11141678 -0.66712517  0.48830812 -0.17881706  0.5474553  -0.72627235]\n"
     ]
    }
   ],
   "source": [
    "tind = np.array([10, 0, 10, 0, 5, 0, 10])\n",
    "\n",
    "yarray = np.linalg.solve(miL, tind)\n",
    "print(yarray)\n",
    "xarray = np.linalg.solve(miU, yarray)\n",
    "print('======== resultado para x ========')\n",
    "print(xarray)\n"
   ]
  },
  {
   "cell_type": "code",
   "execution_count": 3,
   "metadata": {},
   "outputs": [
    {
     "name": "stdout",
     "output_type": "stream",
     "text": [
      "B:\n",
      "[[10.0, 5.0, 0.0, 0.0, 0.0, 0.0, 0.0],\n",
      " [-1.0, 1.0, 1.0, 0.0, 0.0, 0.0, 0.0],\n",
      " [0.0, 5.0, -3.0, 5.0, 0.0, 0.0, 0.0],\n",
      " [0.0, 0.0, -1.0, -1.0, 1.0, 0.0, 0.0],\n",
      " [0.0, 0.0, 0.0, 5.0, 1.0, 5.0, 0.0],\n",
      " [0.0, 0.0, 0.0, 0.0, 1.0, -1.0, -1.0],\n",
      " [0.0, 0.0, 0.0, 0.0, 0.0, 5.0, -10.0]]\n",
      "L:\n",
      "array([[ 2.44948974,  0.        ,  0.        ,  0.        ],\n",
      "       [ 1.22474487,  2.12132034,  0.        ,  0.        ],\n",
      "       [ 1.63299316,  1.41421356,  2.30940108,  0.        ],\n",
      "       [ 3.26598632, -1.41421356,  1.58771324,  3.13249102]])\n",
      "U:\n",
      "array([[ 2.44948974,  1.22474487,  1.63299316,  3.26598632],\n",
      "       [ 0.        ,  2.12132034,  1.41421356, -1.41421356],\n",
      "       [ 0.        ,  0.        ,  2.30940108,  1.58771324],\n",
      "       [ 0.        ,  0.        ,  0.        ,  3.13249102]])\n"
     ]
    }
   ],
   "source": [
    "import pprint\n",
    "import scipy\n",
    "import scipy.linalg   # SciPy Linear Algebra Library\n",
    "\n",
    "A = scipy.array([[6, 3, 4, 8], [3, 6, 5, 1], [4, 5, 10, 7], [8, 1, 7, 25]])\n",
    "L = scipy.linalg.cholesky(A, lower=True)\n",
    "U = scipy.linalg.cholesky(A, lower=False)\n",
    "\n",
    "print (\"B:\")\n",
    "pprint.pprint(matrizB)\n",
    "\n",
    "print (\"L:\")\n",
    "pprint.pprint(L)\n",
    "\n",
    "print (\"U:\")\n",
    "pprint.pprint(U)\n"
   ]
  },
  {
   "cell_type": "code",
   "execution_count": 6,
   "metadata": {},
   "outputs": [
    {
     "name": "stdout",
     "output_type": "stream",
     "text": [
      "[[ 6.  3.  4.  8.]\n",
      " [ 3.  6.  5.  1.]\n",
      " [ 4.  5. 10.  7.]\n",
      " [ 8.  1.  7. 25.]]\n"
     ]
    }
   ],
   "source": [
    "print(np.dot(L, L.T.conj()))"
   ]
  },
  {
   "cell_type": "code",
   "execution_count": 7,
   "metadata": {},
   "outputs": [
    {
     "data": {
      "text/plain": [
       "array([[ 10.,   5.,   0.,   0.,   0.,   0.,   0.],\n",
       "       [ -1.,   1.,   1.,   0.,   0.,   0.,   0.],\n",
       "       [  0.,   5.,  -3.,   5.,   0.,   0.,   0.],\n",
       "       [  0.,   0.,  -1.,  -1.,   1.,   0.,   0.],\n",
       "       [  0.,   0.,   0.,   5.,   1.,   5.,   0.],\n",
       "       [  0.,   0.,   0.,   0.,   1.,  -1.,  -1.],\n",
       "       [  0.,   0.,   0.,   0.,   0.,   5., -10.]])"
      ]
     },
     "execution_count": 7,
     "metadata": {},
     "output_type": "execute_result"
    }
   ],
   "source": [
    "np.dot(miL, miU)"
   ]
  },
  {
   "cell_type": "code",
   "execution_count": 9,
   "metadata": {},
   "outputs": [
    {
     "ename": "LinAlgError",
     "evalue": "Matrix is not positive definite",
     "output_type": "error",
     "traceback": [
      "\u001b[0;31m---------------------------------------------------------------------------\u001b[0m",
      "\u001b[0;31mLinAlgError\u001b[0m                               Traceback (most recent call last)",
      "\u001b[0;32m<ipython-input-9-68501f4acff5>\u001b[0m in \u001b[0;36m<module>\u001b[0;34m\u001b[0m\n\u001b[0;32m----> 1\u001b[0;31m \u001b[0mnp\u001b[0m\u001b[0;34m.\u001b[0m\u001b[0mlinalg\u001b[0m\u001b[0;34m.\u001b[0m\u001b[0mcholesky\u001b[0m\u001b[0;34m(\u001b[0m\u001b[0mmatrizB\u001b[0m\u001b[0;34m)\u001b[0m\u001b[0;34m\u001b[0m\u001b[0;34m\u001b[0m\u001b[0m\n\u001b[0m",
      "\u001b[0;32m~/anaconda3/lib/python3.7/site-packages/numpy/linalg/linalg.py\u001b[0m in \u001b[0;36mcholesky\u001b[0;34m(a)\u001b[0m\n\u001b[1;32m    757\u001b[0m     \u001b[0mt\u001b[0m\u001b[0;34m,\u001b[0m \u001b[0mresult_t\u001b[0m \u001b[0;34m=\u001b[0m \u001b[0m_commonType\u001b[0m\u001b[0;34m(\u001b[0m\u001b[0ma\u001b[0m\u001b[0;34m)\u001b[0m\u001b[0;34m\u001b[0m\u001b[0;34m\u001b[0m\u001b[0m\n\u001b[1;32m    758\u001b[0m     \u001b[0msignature\u001b[0m \u001b[0;34m=\u001b[0m \u001b[0;34m'D->D'\u001b[0m \u001b[0;32mif\u001b[0m \u001b[0misComplexType\u001b[0m\u001b[0;34m(\u001b[0m\u001b[0mt\u001b[0m\u001b[0;34m)\u001b[0m \u001b[0;32melse\u001b[0m \u001b[0;34m'd->d'\u001b[0m\u001b[0;34m\u001b[0m\u001b[0;34m\u001b[0m\u001b[0m\n\u001b[0;32m--> 759\u001b[0;31m     \u001b[0mr\u001b[0m \u001b[0;34m=\u001b[0m \u001b[0mgufunc\u001b[0m\u001b[0;34m(\u001b[0m\u001b[0ma\u001b[0m\u001b[0;34m,\u001b[0m \u001b[0msignature\u001b[0m\u001b[0;34m=\u001b[0m\u001b[0msignature\u001b[0m\u001b[0;34m,\u001b[0m \u001b[0mextobj\u001b[0m\u001b[0;34m=\u001b[0m\u001b[0mextobj\u001b[0m\u001b[0;34m)\u001b[0m\u001b[0;34m\u001b[0m\u001b[0;34m\u001b[0m\u001b[0m\n\u001b[0m\u001b[1;32m    760\u001b[0m     \u001b[0;32mreturn\u001b[0m \u001b[0mwrap\u001b[0m\u001b[0;34m(\u001b[0m\u001b[0mr\u001b[0m\u001b[0;34m.\u001b[0m\u001b[0mastype\u001b[0m\u001b[0;34m(\u001b[0m\u001b[0mresult_t\u001b[0m\u001b[0;34m,\u001b[0m \u001b[0mcopy\u001b[0m\u001b[0;34m=\u001b[0m\u001b[0;32mFalse\u001b[0m\u001b[0;34m)\u001b[0m\u001b[0;34m)\u001b[0m\u001b[0;34m\u001b[0m\u001b[0;34m\u001b[0m\u001b[0m\n\u001b[1;32m    761\u001b[0m \u001b[0;34m\u001b[0m\u001b[0m\n",
      "\u001b[0;32m~/anaconda3/lib/python3.7/site-packages/numpy/linalg/linalg.py\u001b[0m in \u001b[0;36m_raise_linalgerror_nonposdef\u001b[0;34m(err, flag)\u001b[0m\n\u001b[1;32m     98\u001b[0m \u001b[0;34m\u001b[0m\u001b[0m\n\u001b[1;32m     99\u001b[0m \u001b[0;32mdef\u001b[0m \u001b[0m_raise_linalgerror_nonposdef\u001b[0m\u001b[0;34m(\u001b[0m\u001b[0merr\u001b[0m\u001b[0;34m,\u001b[0m \u001b[0mflag\u001b[0m\u001b[0;34m)\u001b[0m\u001b[0;34m:\u001b[0m\u001b[0;34m\u001b[0m\u001b[0;34m\u001b[0m\u001b[0m\n\u001b[0;32m--> 100\u001b[0;31m     \u001b[0;32mraise\u001b[0m \u001b[0mLinAlgError\u001b[0m\u001b[0;34m(\u001b[0m\u001b[0;34m\"Matrix is not positive definite\"\u001b[0m\u001b[0;34m)\u001b[0m\u001b[0;34m\u001b[0m\u001b[0;34m\u001b[0m\u001b[0m\n\u001b[0m\u001b[1;32m    101\u001b[0m \u001b[0;34m\u001b[0m\u001b[0m\n\u001b[1;32m    102\u001b[0m \u001b[0;32mdef\u001b[0m \u001b[0m_raise_linalgerror_eigenvalues_nonconvergence\u001b[0m\u001b[0;34m(\u001b[0m\u001b[0merr\u001b[0m\u001b[0;34m,\u001b[0m \u001b[0mflag\u001b[0m\u001b[0;34m)\u001b[0m\u001b[0;34m:\u001b[0m\u001b[0;34m\u001b[0m\u001b[0;34m\u001b[0m\u001b[0m\n",
      "\u001b[0;31mLinAlgError\u001b[0m: Matrix is not positive definite"
     ]
    }
   ],
   "source": [
    "np.linalg.cholesky(matrizB)"
   ]
  },
  {
   "cell_type": "code",
   "execution_count": 14,
   "metadata": {},
   "outputs": [
    {
     "name": "stdout",
     "output_type": "stream",
     "text": [
      "True\n"
     ]
    }
   ],
   "source": [
    "def is_pos_def(x):\n",
    "    return np.all(np.linalg.eigvals(x) )\n",
    "is_pos_def(matrizB)\n",
    "print(np.all(np.linalg.eigvals(matrizB) ))"
   ]
  },
  {
   "cell_type": "code",
   "execution_count": null,
   "metadata": {},
   "outputs": [],
   "source": []
  }
 ],
 "metadata": {
  "kernelspec": {
   "display_name": "Python 3",
   "language": "python",
   "name": "python3"
  },
  "language_info": {
   "codemirror_mode": {
    "name": "ipython",
    "version": 3
   },
   "file_extension": ".py",
   "mimetype": "text/x-python",
   "name": "python",
   "nbconvert_exporter": "python",
   "pygments_lexer": "ipython3",
   "version": "3.7.3"
  }
 },
 "nbformat": 4,
 "nbformat_minor": 4
}

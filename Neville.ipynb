{
 "cells": [
  {
   "cell_type": "code",
   "execution_count": 5,
   "metadata": {},
   "outputs": [
    {
     "data": {
      "text/markdown": [
       "__Ejercicio b.1.1)__"
      ],
      "text/plain": [
       "<IPython.core.display.Markdown object>"
      ]
     },
     "metadata": {},
     "output_type": "display_data"
    },
    {
     "data": {
      "text/html": [
       "<div>\n",
       "<style scoped>\n",
       "    .dataframe tbody tr th:only-of-type {\n",
       "        vertical-align: middle;\n",
       "    }\n",
       "\n",
       "    .dataframe tbody tr th {\n",
       "        vertical-align: top;\n",
       "    }\n",
       "\n",
       "    .dataframe thead th {\n",
       "        text-align: right;\n",
       "    }\n",
       "</style>\n",
       "<table border=\"1\" class=\"dataframe\">\n",
       "  <thead>\n",
       "    <tr style=\"text-align: right;\">\n",
       "      <th></th>\n",
       "      <th>$P_i$</th>\n",
       "      <th>$P_{i0}$</th>\n",
       "      <th>$P_{i1}$</th>\n",
       "      <th>$P_{i2}$</th>\n",
       "      <th>$P_{i3}$</th>\n",
       "    </tr>\n",
       "  </thead>\n",
       "  <tbody>\n",
       "    <tr>\n",
       "      <th>0</th>\n",
       "      <td>0.82</td>\n",
       "      <td>1650.0</td>\n",
       "      <td>0.0</td>\n",
       "      <td>0.0</td>\n",
       "      <td>0.0</td>\n",
       "    </tr>\n",
       "    <tr>\n",
       "      <th>1</th>\n",
       "      <td>0.84</td>\n",
       "      <td>1450.0</td>\n",
       "      <td>1145.0</td>\n",
       "      <td>0.0</td>\n",
       "      <td>0.0</td>\n",
       "    </tr>\n",
       "    <tr>\n",
       "      <th>2</th>\n",
       "      <td>0.86</td>\n",
       "      <td>1250.0</td>\n",
       "      <td>1145.0</td>\n",
       "      <td>1145.0</td>\n",
       "      <td>0.0</td>\n",
       "    </tr>\n",
       "    <tr>\n",
       "      <th>3</th>\n",
       "      <td>0.88</td>\n",
       "      <td>1050.0</td>\n",
       "      <td>1145.0</td>\n",
       "      <td>1145.0</td>\n",
       "      <td>1145.0</td>\n",
       "    </tr>\n",
       "  </tbody>\n",
       "</table>\n",
       "</div>"
      ],
      "text/plain": [
       "   $P_i$  $P_{i0}$  $P_{i1}$  $P_{i2}$  $P_{i3}$\n",
       "0   0.82    1650.0       0.0       0.0       0.0\n",
       "1   0.84    1450.0    1145.0       0.0       0.0\n",
       "2   0.86    1250.0    1145.0    1145.0       0.0\n",
       "3   0.88    1050.0    1145.0    1145.0    1145.0"
      ]
     },
     "metadata": {},
     "output_type": "display_data"
    },
    {
     "data": {
      "text/markdown": [
       "El resultado interpolado es: $f(0.8705)\\approx 1145.0$"
      ],
      "text/plain": [
       "<IPython.core.display.Markdown object>"
      ]
     },
     "metadata": {},
     "output_type": "display_data"
    }
   ],
   "source": [
    "import numpy as np\n",
    "import pandas as pd\n",
    "from IPython.display import display, Markdown\n",
    "\n",
    "def neville(x, xarray, fxarray):\n",
    "    \"\"\"\n",
    "     Implementación del método de Neville para la obtención aproximaciones\n",
    "     polinómicas de grado progresivamente mayor en un punto específico.\n",
    "     \n",
    "     Argumentos:\n",
    "         float x: punto específico\n",
    "         array xarray: matriz conteniendo los x_i valores (i=1, ...n)\n",
    "         array fxarray: matriz conteniendo los f(x_i) (i=1, ...n)\n",
    "     \n",
    "     Devuelve:\n",
    "         array parray: La tabla con los valores de las sucesivas aproximaciones\n",
    "    \"\"\"\n",
    "    xarray = np.asarray(xarray) # Contiene los números  x_0, ...x_n\n",
    "    fxarray = np. asarray(fxarray) # Contiene los valores f(x_0), ...f(x_n)\n",
    "    global parray   \n",
    "    nx = len(xarray)\n",
    "    nfx = len(fxarray)\n",
    "    parray = np.zeros(((nfx), (nfx))) # Contendrá los P_nn.\n",
    "    # Se insertan los P_0i\n",
    "    for i in range(0, nfx):\n",
    "        parray[i, 0] = fxarray[i]\n",
    "    \n",
    "    for i in range(1, nfx):\n",
    "\n",
    "        for j in range(1, i+1):\n",
    "            numerador1 = (x-xarray[i-j])*parray[i, j-1]\n",
    "            #print('(',x,'-', xarray[i-j],')x', parray[i, j-1])\n",
    "            numerador2 = (x - xarray[i])*parray[i-1, j-1]\n",
    "            #print('(',x,'-', xarray[i],')x', parray[i-1, j-1])\n",
    "            denominador = xarray[i] - xarray[i-j]\n",
    "            #print(denominador)\n",
    "            parray[i, j] = ((numerador1 - numerador2)/denominador)\n",
    "            \n",
    "    return(parray)\n",
    "\n",
    "# Ejercicio b.11)\n",
    "display(Markdown('__Ejercicio b.1.1)__'))\n",
    "xa = [0.82, 0.84, 0.86, 0.88]\n",
    "ya = [1650, 1450, 1250, 1050]\n",
    "x= 0.8705\n",
    "\n",
    "# Ejercicio b.22)\n",
    "# display(Markdown('__Ejercicio b.2.2)__'))\n",
    "# xa = [0.84, 0.86, 0.88, 0.90]\n",
    "# ya = [1450, 1250, 1050, 870]\n",
    "# x= 0.8705\n",
    "\n",
    "# xa = [-1/2, 0, 1/2, 1]\n",
    "# ya = [-4, 3, 13/2, 8]\n",
    "# x = 0.5\n",
    "\n",
    "# xa = [0.0 ,0.5, 0.75, 1.0]\n",
    "# ya = [1.0, 0.6065, 0.4724, 0.3670]\n",
    "# x= 0.25\n",
    "# Llamada a la función\n",
    "p = neville(x, xa, ya)\n",
    "\n",
    "# Preparación y presentación de los resultados\n",
    "columnas = []\n",
    "base = '$P_{i'\n",
    "for i in range(len(p)):\n",
    "    post = '{}'.format(i)\n",
    "    columnas.append(base+post+'}$')\n",
    "\n",
    "pd.set_option('display.precision', 7)\n",
    "tabla = pd.DataFrame(p, columns=columnas)\n",
    "tabla.insert(loc=0, column='$P_i$', value=xa )\n",
    "\n",
    "# tabla.to_csv(\"neville-b22.csv\", index=None, header=False)\n",
    "# tabla.to_latex('neville-b22.tex')\n",
    "\n",
    "display(tabla)\n",
    "display(Markdown('El resultado interpolado es: $f({})\\\\approx {}$'.format(x, round( p[len(p)-1, len(p)-1], 0))))"
   ]
  },
  {
   "cell_type": "code",
   "execution_count": 8,
   "metadata": {},
   "outputs": [
    {
     "data": {
      "text/markdown": [
       "__Ejercicio b.2.1)__"
      ],
      "text/plain": [
       "<IPython.core.display.Markdown object>"
      ]
     },
     "metadata": {},
     "output_type": "display_data"
    },
    {
     "data": {
      "text/html": [
       "<div>\n",
       "<style scoped>\n",
       "    .dataframe tbody tr th:only-of-type {\n",
       "        vertical-align: middle;\n",
       "    }\n",
       "\n",
       "    .dataframe tbody tr th {\n",
       "        vertical-align: top;\n",
       "    }\n",
       "\n",
       "    .dataframe thead th {\n",
       "        text-align: right;\n",
       "    }\n",
       "</style>\n",
       "<table border=\"1\" class=\"dataframe\">\n",
       "  <thead>\n",
       "    <tr style=\"text-align: right;\">\n",
       "      <th></th>\n",
       "      <th>$P_i$</th>\n",
       "      <th>$P_{i0}$</th>\n",
       "      <th>$P_{i1}$</th>\n",
       "      <th>$P_{i2}$</th>\n",
       "      <th>$P_{i3}$</th>\n",
       "      <th>$P_{i4}$</th>\n",
       "    </tr>\n",
       "  </thead>\n",
       "  <tbody>\n",
       "    <tr>\n",
       "      <th>0</th>\n",
       "      <td>0.84</td>\n",
       "      <td>1450.0</td>\n",
       "      <td>0.0</td>\n",
       "      <td>0.00000</td>\n",
       "      <td>0.0000000</td>\n",
       "      <td>0.0000000</td>\n",
       "    </tr>\n",
       "    <tr>\n",
       "      <th>1</th>\n",
       "      <td>0.86</td>\n",
       "      <td>1250.0</td>\n",
       "      <td>1145.0</td>\n",
       "      <td>0.00000</td>\n",
       "      <td>0.0000000</td>\n",
       "      <td>0.0000000</td>\n",
       "    </tr>\n",
       "    <tr>\n",
       "      <th>2</th>\n",
       "      <td>0.88</td>\n",
       "      <td>1050.0</td>\n",
       "      <td>1145.0</td>\n",
       "      <td>1145.00000</td>\n",
       "      <td>0.0000000</td>\n",
       "      <td>0.0000000</td>\n",
       "    </tr>\n",
       "    <tr>\n",
       "      <th>3</th>\n",
       "      <td>0.90</td>\n",
       "      <td>870.0</td>\n",
       "      <td>1135.5</td>\n",
       "      <td>1142.50625</td>\n",
       "      <td>1143.7323437</td>\n",
       "      <td>0.0000000</td>\n",
       "    </tr>\n",
       "    <tr>\n",
       "      <th>4</th>\n",
       "      <td>0.92</td>\n",
       "      <td>690.0</td>\n",
       "      <td>1135.5</td>\n",
       "      <td>1135.50000</td>\n",
       "      <td>1141.2801562</td>\n",
       "      <td>1142.7974473</td>\n",
       "    </tr>\n",
       "  </tbody>\n",
       "</table>\n",
       "</div>"
      ],
      "text/plain": [
       "   $P_i$  $P_{i0}$  $P_{i1}$    $P_{i2}$      $P_{i3}$      $P_{i4}$\n",
       "0   0.84    1450.0       0.0     0.00000     0.0000000     0.0000000\n",
       "1   0.86    1250.0    1145.0     0.00000     0.0000000     0.0000000\n",
       "2   0.88    1050.0    1145.0  1145.00000     0.0000000     0.0000000\n",
       "3   0.90     870.0    1135.5  1142.50625  1143.7323437     0.0000000\n",
       "4   0.92     690.0    1135.5  1135.50000  1141.2801562  1142.7974473"
      ]
     },
     "metadata": {},
     "output_type": "display_data"
    },
    {
     "data": {
      "text/markdown": [
       "El resultado interpolado es: $f(0.8705)\\approx 1143.0$"
      ],
      "text/plain": [
       "<IPython.core.display.Markdown object>"
      ]
     },
     "metadata": {},
     "output_type": "display_data"
    }
   ],
   "source": [
    "# Ejercicio b.11)-> error término siguiente\n",
    "# display(Markdown('__Ejercicio b.1.2)__'))\n",
    "# xa = [0.82, 0.84, 0.86, 0.88, 0.90]\n",
    "# ya = [1650, 1450, 1250, 1050, 870]\n",
    "# x= 0.8705\n",
    "\n",
    "# Ejercicio b.2.1)-> error término siguiente\n",
    "display(Markdown('__Ejercicio b.2.1)__'))\n",
    "xa = [0.84, 0.86, 0.88, 0.90, 0.92]\n",
    "ya = [1450, 1250, 1050, 870, 690]\n",
    "x= 0.8705\n",
    "\n",
    "p = neville(x, xa, ya)\n",
    "\n",
    "# Preparación y presentación de los resultados\n",
    "columnas = []\n",
    "base = '$P_{i'\n",
    "for i in range(len(p)):\n",
    "    post = '{}'.format(i)\n",
    "    columnas.append(base+post+'}$')\n",
    "\n",
    "pd.set_option('display.precision', 7)\n",
    "tabla = pd.DataFrame(p, columns=columnas)\n",
    "tabla.insert(loc=0, column='$P_i$', value=xa )\n",
    "\n",
    "tabla.to_csv(\"termino-siguiente-neville-b21.csv\", index=None, header=False)\n",
    "tabla.to_latex('termino-siguiente-neville-b21.tex')\n",
    "\n",
    "display(tabla)\n",
    "display(Markdown('El resultado interpolado es: $f({})\\\\approx {}$'.format(x, round( p[len(p)-1, len(p)-1], 0))))"
   ]
  },
  {
   "cell_type": "code",
   "execution_count": null,
   "metadata": {},
   "outputs": [],
   "source": []
  }
 ],
 "metadata": {
  "kernelspec": {
   "display_name": "Python 3",
   "language": "python",
   "name": "python3"
  },
  "language_info": {
   "codemirror_mode": {
    "name": "ipython",
    "version": 3
   },
   "file_extension": ".py",
   "mimetype": "text/x-python",
   "name": "python",
   "nbconvert_exporter": "python",
   "pygments_lexer": "ipython3",
   "version": "3.7.3"
  }
 },
 "nbformat": 4,
 "nbformat_minor": 4
}

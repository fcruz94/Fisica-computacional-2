{
 "cells": [
  {
   "cell_type": "markdown",
   "metadata": {},
   "source": [
    "# Orden de convergencia\n",
    "_**Modo de uso**_: una vez seleccionada la celda que contiene el código, pulsar May+Intro"
   ]
  },
  {
   "cell_type": "code",
   "execution_count": 3,
   "metadata": {},
   "outputs": [
    {
     "name": "stdin",
     "output_type": "stream",
     "text": [
      "Nombre del archivo CSV para e(n):  aitken.csv\n",
      "Nombre del archivo CSV para e(n+1):  \n",
      "Raíz:  (-5+3*np.sqrt(3))/2\n",
      "Nombre de la imagen (con extensión, ejemplo: archivo.png):  convergencia_aitken_alfa.png\n"
     ]
    },
    {
     "data": {
      "image/png": "[encoded data removed]",
      "text/plain": [
       "<Figure size 400x560 with 1 Axes>"
      ]
     },
     "metadata": {},
     "output_type": "display_data"
    },
    {
     "data": {
      "text/markdown": [
       "La pendiente de la recta es: **0.8032099408152886** por tanto la convergencia es: **1.0**"
      ],
      "text/plain": [
       "<IPython.core.display.Markdown object>"
      ]
     },
     "metadata": {},
     "output_type": "display_data"
    }
   ],
   "source": [
    "#################\n",
    "# Importaciones #\n",
    "#################\n",
    "\n",
    "import numpy as np\n",
    "import sympy as sp\n",
    "import pandas as pd\n",
    "import csv\n",
    "from IPython.display import Math, Latex, Markdown\n",
    "from pylab import *\n",
    "from matplotlib import pyplot as plt\n",
    "from matplotlib.offsetbox import (TextArea, DrawingArea, OffsetImage,\n",
    "                                  AnnotationBbox)\n",
    "import math\n",
    "import warnings\n",
    "warnings.filterwarnings(\"ignore\")\n",
    "\n",
    "##################################\n",
    "##################################\n",
    "## 1.- Preparación de los datos ##\n",
    "##################################\n",
    "##################################\n",
    "\n",
    "###########################################\n",
    "# Declaración de algunas variables útiles #\n",
    "###########################################\n",
    "\n",
    "orden_matrix = []\n",
    "en_matrix = []\n",
    "en1_matrix = []\n",
    "datos_n1_matrix = []\n",
    "datos_n_matrix = []\n",
    "##########################################################################\n",
    "# Definición de la función                                               #\n",
    "#                                                                        #\n",
    "# El método utilizado está basado en :                                   #\n",
    "# --> p: orden de convergencia                                           #\n",
    "# --> e(n): error término n                                              #\n",
    "#                                                                        #\n",
    "#    e(n+1) = k*(e(n))^p                                                 #\n",
    "#    log(e(n+1)) = p*log(e(n)) +log(k)                                   #\n",
    "#                                                                        #\n",
    "# siendo p la pendiente de la recta resultante                           #\n",
    "##########################################################################\n",
    "\n",
    "def orden(terminos_n, terminos_n1, raiz):\n",
    "    \"\"\"\n",
    "    Cálculo del orden de convergencia de una sucesión\n",
    "    :param terminos: matriz que contiene los términos de la sucesión\n",
    "    :param raiz: solución analítica o valor aproximado representando por un término\n",
    "    de la sucesión con un índice adecadamente alto.\n",
    "    \"\"\"\n",
    "    i = 0\n",
    "    while i < len(terminos_n1):\n",
    "        en_matrix.append( np.log(abs(terminos_n[i]-raiz)))\n",
    "        en1_matrix.append(np.log(abs(terminos_n1[i]-raiz)))\n",
    "        i +=1\n",
    "\n",
    "narchivo_en = input(\"Nombre del archivo CSV para e(n): \") # Nombre del archivo csv que contiene los datos\n",
    "narchivo_en1 = input(\"Nombre del archivo CSV para e(n+1): \")\n",
    "# Se contempla el caso de que solo haya un archivo de datos\n",
    "if narchivo_en1 == '':\n",
    "    vacio = True\n",
    "    narchivo_en1 = narchivo_en\n",
    "\n",
    "mraiz = eval(input(\"Raíz: \")) # Raíz\n",
    "archivo_en = open(narchivo_en)\n",
    "archivo_en1 = open(narchivo_en1)\n",
    "\n",
    "datos_csv_n = np.genfromtxt(archivo_en, delimiter=',') # Obtención de los datos del archivo csv\n",
    "datos_csv_n1 = np.genfromtxt(archivo_en1, delimiter=',')\n",
    "\n",
    "# Almacenamiento de los datos en una matriz\n",
    "for fila in datos_csv_n:\n",
    "    datos_n_matrix.append(fila) \n",
    "    # Se contempla el caso de que solo haya un archivo de datos\n",
    "    if vacio :\n",
    "        datos_n1_matrix = np.delete(datos_csv_n1, 0, 0)\n",
    "    else:\n",
    "        for fila in datos_csv_n1:\n",
    "            datos_n1_matrix.append(fila)\n",
    "    \n",
    "orden(datos_n_matrix, datos_n1_matrix, mraiz) # Llamada a la función\n",
    "\n",
    "#################################################\n",
    "#################################################\n",
    "## 2.- Dibujo de gráfica y de regresión lineal ##\n",
    "#################################################\n",
    "#################################################\n",
    "\n",
    "plt.rcParams.update({'font.size': 14}) # Ajuste general del tamaño de fuente\n",
    "\n",
    "p = np.polyfit(en_matrix, en1_matrix, 1) # Regresión lineal\n",
    "\n",
    "y_ajuste = []\n",
    "j=0\n",
    "\n",
    "# Preparación de la matriz para contener los datos del eje y de la gráfica\n",
    "while j < len(en_matrix):\n",
    "    y_ajuste.append(en_matrix[j]*p[0]+p[1])\n",
    "    j += 1\n",
    "\n",
    "# Nombre del fichero para guardar el gráfico\n",
    "guardar_como = input('Nombre de la imagen (con extensión, ejemplo: archivo.png): ')\n",
    "\n",
    "# Gráfica\n",
    "fig=plt.figure(figsize=(5, 7), dpi= 80, facecolor='w', edgecolor='k')\n",
    "\n",
    "etiqueta = '$\\\\alpha={}$'.format(p[0])\n",
    "\n",
    "ax=fig.add_axes([0,0,1,1])\n",
    "#plt.xscale('log')\n",
    "#plt.yscale('log')\n",
    "plt.xlabel('$\\\\log(e_n)$', fontsize= 20)\n",
    "plt.ylabel('$\\\\log(e_{n+1})$', fontsize= 20)\n",
    "\n",
    "ax.plot(en_matrix, en1_matrix, 'r+')\n",
    "ax.plot(en_matrix, y_ajuste, ':')\n",
    "ax.annotate(etiqueta, [-7, -15.7], bbox=dict(boxstyle=\"round\", fc=\"w\"))\n",
    "plt.show()\n",
    "\n",
    "fig.savefig(guardar_como,bbox_inches='tight') # Guardado de la gráfica en disco\n",
    "\n",
    "display(Markdown('La pendiente de la recta es: **{}** por tanto la convergencia es: **{}**'.format(p[0], np.round(p[0]))))\n",
    "#display(datos_n_matrix)\n",
    "#display(datos_n1_matrix)"
   ]
  },
  {
   "cell_type": "code",
   "execution_count": null,
   "metadata": {},
   "outputs": [],
   "source": []
  }
 ],
 "metadata": {
  "kernelspec": {
   "display_name": "Python 3",
   "language": "python",
   "name": "python3"
  },
  "language_info": {
   "codemirror_mode": {
    "name": "ipython",
    "version": 3
   },
   "file_extension": ".py",
   "mimetype": "text/x-python",
   "name": "python",
   "nbconvert_exporter": "python",
   "pygments_lexer": "ipython3",
   "version": "3.7.3"
  }
 },
 "nbformat": 4,
 "nbformat_minor": 4
}
